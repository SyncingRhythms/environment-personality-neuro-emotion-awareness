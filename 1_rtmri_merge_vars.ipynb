{
 "cells": [
  {
   "cell_type": "code",
   "execution_count": 1,
   "id": "bcc71bbc-8f67-4c76-846e-5ab194f5280e",
   "metadata": {},
   "outputs": [],
   "source": [
    "import pandas as pd\n",
    "import numpy as np\n",
    "# configure pandas\n",
    "pd.set_option('display.width', 500)\n",
    "pd.set_option('display.max_columns', 100)"
   ]
  },
  {
   "cell_type": "markdown",
   "id": "0f98a5ff-a7bd-4f0e-90ce-acd8cf011b8c",
   "metadata": {},
   "source": [
    "### Load excel file with table and deriviative variables of interest"
   ]
  },
  {
   "cell_type": "code",
   "execution_count": 2,
   "id": "61d875f4-1d95-45a5-9bac-7962a716dcb4",
   "metadata": {},
   "outputs": [
    {
     "data": {
      "text/html": [
       "<div>\n",
       "<style scoped>\n",
       "    .dataframe tbody tr th:only-of-type {\n",
       "        vertical-align: middle;\n",
       "    }\n",
       "\n",
       "    .dataframe tbody tr th {\n",
       "        vertical-align: top;\n",
       "    }\n",
       "\n",
       "    .dataframe thead th {\n",
       "        text-align: right;\n",
       "    }\n",
       "</style>\n",
       "<table border=\"1\" class=\"dataframe\">\n",
       "  <thead>\n",
       "    <tr style=\"text-align: right;\">\n",
       "      <th></th>\n",
       "      <th>Table</th>\n",
       "      <th>Variable</th>\n",
       "      <th>Description</th>\n",
       "      <th>Unnamed: 3</th>\n",
       "      <th>Unnamed: 4</th>\n",
       "      <th>Unnamed: 5</th>\n",
       "    </tr>\n",
       "  </thead>\n",
       "  <tbody>\n",
       "    <tr>\n",
       "      <th>0</th>\n",
       "      <td>mri_y_rsfmr_var_dsk</td>\n",
       "      <td>rsfmri_var_cdk_insulalh</td>\n",
       "      <td>Temporal variance in APARC ROI left-insula</td>\n",
       "      <td>NaN</td>\n",
       "      <td>NaN</td>\n",
       "      <td>NaN</td>\n",
       "    </tr>\n",
       "    <tr>\n",
       "      <th>1</th>\n",
       "      <td>mri_y_rsfmr_var_dsk</td>\n",
       "      <td>rsfmri_var_cdk_insularh</td>\n",
       "      <td>Temporal variance in APARC ROI right-insula</td>\n",
       "      <td>NaN</td>\n",
       "      <td>NaN</td>\n",
       "      <td>NaN</td>\n",
       "    </tr>\n",
       "    <tr>\n",
       "      <th>2</th>\n",
       "      <td>mri_y_rsfmr_var_dsk</td>\n",
       "      <td>rsfmri_var_cdk_rlaclatelh</td>\n",
       "      <td>Temporal variance in APARC ROI left-rostralant...</td>\n",
       "      <td>NaN</td>\n",
       "      <td>NaN</td>\n",
       "      <td>NaN</td>\n",
       "    </tr>\n",
       "    <tr>\n",
       "      <th>3</th>\n",
       "      <td>mri_y_rsfmr_var_dsk</td>\n",
       "      <td>rsfmri_var_cdk_rlaclaterh</td>\n",
       "      <td>Temporal variance in APARC ROI right-rostralan...</td>\n",
       "      <td>NaN</td>\n",
       "      <td>NaN</td>\n",
       "      <td>NaN</td>\n",
       "    </tr>\n",
       "    <tr>\n",
       "      <th>4</th>\n",
       "      <td>mri_y_rsfmr_var_dsk</td>\n",
       "      <td>rsfmri_var_cdk_entorhinallh</td>\n",
       "      <td>Temporal variance in APARC ROI left-entorhinal</td>\n",
       "      <td>NaN</td>\n",
       "      <td>NaN</td>\n",
       "      <td>NaN</td>\n",
       "    </tr>\n",
       "  </tbody>\n",
       "</table>\n",
       "</div>"
      ],
      "text/plain": [
       "                 Table                     Variable                                        Description  Unnamed: 3  Unnamed: 4 Unnamed: 5\n",
       "0  mri_y_rsfmr_var_dsk      rsfmri_var_cdk_insulalh         Temporal variance in APARC ROI left-insula         NaN         NaN        NaN\n",
       "1  mri_y_rsfmr_var_dsk      rsfmri_var_cdk_insularh        Temporal variance in APARC ROI right-insula         NaN         NaN        NaN\n",
       "2  mri_y_rsfmr_var_dsk    rsfmri_var_cdk_rlaclatelh  Temporal variance in APARC ROI left-rostralant...         NaN         NaN        NaN\n",
       "3  mri_y_rsfmr_var_dsk    rsfmri_var_cdk_rlaclaterh  Temporal variance in APARC ROI right-rostralan...         NaN         NaN        NaN\n",
       "4  mri_y_rsfmr_var_dsk  rsfmri_var_cdk_entorhinallh     Temporal variance in APARC ROI left-entorhinal         NaN         NaN        NaN"
      ]
     },
     "execution_count": 2,
     "metadata": {},
     "output_type": "execute_result"
    }
   ],
   "source": [
    "tvars = pd.read_excel('abcd_tabs_vars_insula_df-df.xlsx')\n",
    "tvars.head()"
   ]
  },
  {
   "cell_type": "code",
   "execution_count": 3,
   "id": "c54ea2ef-8e5d-426c-8b7b-24dcecd77b36",
   "metadata": {},
   "outputs": [
    {
     "data": {
      "text/html": [
       "<div>\n",
       "<style scoped>\n",
       "    .dataframe tbody tr th:only-of-type {\n",
       "        vertical-align: middle;\n",
       "    }\n",
       "\n",
       "    .dataframe tbody tr th {\n",
       "        vertical-align: top;\n",
       "    }\n",
       "\n",
       "    .dataframe thead th {\n",
       "        text-align: right;\n",
       "    }\n",
       "</style>\n",
       "<table border=\"1\" class=\"dataframe\">\n",
       "  <thead>\n",
       "    <tr style=\"text-align: right;\">\n",
       "      <th></th>\n",
       "      <th>Table</th>\n",
       "      <th>Variable</th>\n",
       "      <th>Description</th>\n",
       "      <th>Unnamed: 3</th>\n",
       "      <th>Unnamed: 4</th>\n",
       "      <th>Unnamed: 5</th>\n",
       "    </tr>\n",
       "  </thead>\n",
       "  <tbody>\n",
       "    <tr>\n",
       "      <th>141</th>\n",
       "      <td>mri_y_rsfmr_cor_gp_aseg</td>\n",
       "      <td>rsfmri_cor_ngd_dsa_scs_crcxrh</td>\n",
       "      <td>Average correlation between dorsal attention n...</td>\n",
       "      <td>NaN</td>\n",
       "      <td>NaN</td>\n",
       "      <td>mrirscor02</td>\n",
       "    </tr>\n",
       "    <tr>\n",
       "      <th>142</th>\n",
       "      <td>mri_y_rsfmr_cor_gp_aseg</td>\n",
       "      <td>rsfmri_cor_ngd_dsa_scs_hplh</td>\n",
       "      <td>Average correlation between dorsal attention n...</td>\n",
       "      <td>NaN</td>\n",
       "      <td>NaN</td>\n",
       "      <td>mrirscor02</td>\n",
       "    </tr>\n",
       "    <tr>\n",
       "      <th>143</th>\n",
       "      <td>mri_y_rsfmr_cor_gp_aseg</td>\n",
       "      <td>rsfmri_cor_ngd_dsa_scs_hprh</td>\n",
       "      <td>Average correlation between dorsal attention n...</td>\n",
       "      <td>NaN</td>\n",
       "      <td>NaN</td>\n",
       "      <td>NaN</td>\n",
       "    </tr>\n",
       "    <tr>\n",
       "      <th>144</th>\n",
       "      <td>mri_y_rsfmr_cor_gp_aseg</td>\n",
       "      <td>rsfmri_cor_ngd_dsa_scs_ptlh</td>\n",
       "      <td>Average correlation between dorsal attention n...</td>\n",
       "      <td>NaN</td>\n",
       "      <td>NaN</td>\n",
       "      <td>mrirscor02</td>\n",
       "    </tr>\n",
       "    <tr>\n",
       "      <th>145</th>\n",
       "      <td>mri_y_rsfmr_cor_gp_aseg</td>\n",
       "      <td>rsfmri_cor_ngd_dsa_scs_ptrh</td>\n",
       "      <td>Average correlation between dorsal attention n...</td>\n",
       "      <td>NaN</td>\n",
       "      <td>NaN</td>\n",
       "      <td>NaN</td>\n",
       "    </tr>\n",
       "  </tbody>\n",
       "</table>\n",
       "</div>"
      ],
      "text/plain": [
       "                       Table                       Variable                                        Description  Unnamed: 3  Unnamed: 4  Unnamed: 5\n",
       "141  mri_y_rsfmr_cor_gp_aseg  rsfmri_cor_ngd_dsa_scs_crcxrh  Average correlation between dorsal attention n...         NaN         NaN  mrirscor02\n",
       "142  mri_y_rsfmr_cor_gp_aseg    rsfmri_cor_ngd_dsa_scs_hplh  Average correlation between dorsal attention n...         NaN         NaN  mrirscor02\n",
       "143  mri_y_rsfmr_cor_gp_aseg    rsfmri_cor_ngd_dsa_scs_hprh  Average correlation between dorsal attention n...         NaN         NaN         NaN\n",
       "144  mri_y_rsfmr_cor_gp_aseg    rsfmri_cor_ngd_dsa_scs_ptlh  Average correlation between dorsal attention n...         NaN         NaN  mrirscor02\n",
       "145  mri_y_rsfmr_cor_gp_aseg    rsfmri_cor_ngd_dsa_scs_ptrh  Average correlation between dorsal attention n...         NaN         NaN         NaN"
      ]
     },
     "execution_count": 3,
     "metadata": {},
     "output_type": "execute_result"
    }
   ],
   "source": [
    "tvars.tail()"
   ]
  },
  {
   "cell_type": "code",
   "execution_count": 4,
   "id": "306b7e78-4647-4087-83ee-b8251c624f78",
   "metadata": {},
   "outputs": [],
   "source": [
    "dpath = '/home/cglab/projects/abcd/data/abcd5.1-rser/'"
   ]
  },
  {
   "cell_type": "code",
   "execution_count": 5,
   "id": "4188aad3-fd51-4062-8bfe-ba155ba1d845",
   "metadata": {},
   "outputs": [],
   "source": [
    "def get_deriviatives(df, table_file, table_key, how_merge='outer'):\n",
    "    dat = pd.read_csv(dpath + table_file)\n",
    "    # get table name, which is the string before the period\n",
    "    table = table_file.split('.')[0]\n",
    "    # get column names sub and event which will need for merging dataframes\n",
    "    # it's the same for each df so overwriting is fine\n",
    "    se_nms = dat.columns[:2].values.tolist()\n",
    "    # deriviative variables desired\n",
    "    deriviative_cols = table_key[table_key['Table']==table]['Variable'].values.tolist()\n",
    "    deriviative_cols += se_nms\n",
    "    # merge with overall with INNER join bc we dont want to exclude participants who have task mri data but not resting or vice versa\n",
    "    print('Prior to merge rs df size is {0} and other df shape is {1}'.format(df.shape, dat[deriviative_cols].shape))\n",
    "    if 'src_subject_id' not in df.columns:\n",
    "        # for first table assign it to df\n",
    "        df = dat[deriviative_cols].copy()\n",
    "    else:\n",
    "        # all others are merged\n",
    "        df = df.merge(dat[deriviative_cols], how=how_merge, on=['src_subject_id', 'eventname'])\n",
    "    print('Any duplicated columns? {}'.format(df.columns.duplicated().any()))\n",
    "    print('New rs df size is {}'.format(df.shape))\n",
    "    return df"
   ]
  },
  {
   "cell_type": "markdown",
   "id": "a4eae323-e6fd-4881-ae80-f9665d56bb7b",
   "metadata": {},
   "source": [
    "## Make sure that first csv pulled from has multiple 'eventnames', so that they're included in future merges"
   ]
  },
  {
   "cell_type": "code",
   "execution_count": 6,
   "id": "b57f1c0f-d963-42da-8fa8-47f12cc7fb3e",
   "metadata": {},
   "outputs": [],
   "source": [
    "# set empty dataframe  \n",
    "# to be filled with merges\n",
    "rs = pd.DataFrame()"
   ]
  },
  {
   "cell_type": "markdown",
   "id": "00eeba85-39be-4038-be83-f87485bee28f",
   "metadata": {},
   "source": [
    "### Load, Select, & Merge data, 'mri_y_tfmr_nback_ngfvntf_aseg'\n",
    "* Get relevant deriviatives from table 'mri_y_tfmr_nback_ngfvntf_aseg'"
   ]
  },
  {
   "cell_type": "code",
   "execution_count": 7,
   "id": "0ee90a1a-6b9a-4fc7-abd2-05843f0659ec",
   "metadata": {},
   "outputs": [
    {
     "name": "stdout",
     "output_type": "stream",
     "text": [
      "Prior to merge rs df size is (0, 0) and other df shape is (19822, 2)\n",
      "Any duplicated columns? False\n",
      "New rs df size is (19822, 2)\n"
     ]
    }
   ],
   "source": [
    "rs = get_deriviatives(rs, 'mri_y_tfmr_nback_ngfvntf_aseg.csv', tvars)"
   ]
  },
  {
   "cell_type": "markdown",
   "id": "a9509dbe-c9ef-4e22-b6a7-da4ae1871795",
   "metadata": {},
   "source": [
    "### Load, Select, & Merge data, 'mri_y_tfmr_nback_ngfvntf_dst'\n",
    "* Get relevant deriviatives from table 'mri_y_tfmr_nback_ngfvntf_dst'"
   ]
  },
  {
   "cell_type": "code",
   "execution_count": 8,
   "id": "b6b399bf-6348-44b5-96ae-091100f4f344",
   "metadata": {},
   "outputs": [
    {
     "name": "stdout",
     "output_type": "stream",
     "text": [
      "Prior to merge rs df size is (19822, 2) and other df shape is (19822, 2)\n",
      "Any duplicated columns? False\n",
      "New rs df size is (19822, 2)\n"
     ]
    }
   ],
   "source": [
    "rs = get_deriviatives(rs, 'mri_y_tfmr_nback_ngfvntf_dst.csv', tvars)"
   ]
  },
  {
   "cell_type": "markdown",
   "id": "42debf46-3db3-41f4-83a4-a0f29afa1536",
   "metadata": {},
   "source": [
    "### Load, Select, & Merge data, 'mri_y_tfmr_nback_ngfvntf_dsk'\n",
    "* Get relevant deriviatives from table 'mri_y_tfmr_nback_ngfvntf_dsk'"
   ]
  },
  {
   "cell_type": "code",
   "execution_count": 9,
   "id": "c845a968-c95c-4b46-90f1-f3f37fd6bcb4",
   "metadata": {},
   "outputs": [
    {
     "name": "stdout",
     "output_type": "stream",
     "text": [
      "Prior to merge rs df size is (19822, 2) and other df shape is (19822, 2)\n",
      "Any duplicated columns? False\n",
      "New rs df size is (19822, 2)\n"
     ]
    }
   ],
   "source": [
    "rs = get_deriviatives(rs, 'mri_y_tfmr_nback_ngfvntf_dsk.csv', tvars)"
   ]
  },
  {
   "cell_type": "markdown",
   "id": "68a41f72-3c3d-4269-ba9e-4e38108f7fb5",
   "metadata": {},
   "source": [
    "### Load, Select, & Merge data, 'mri_y_rsfmr_cor_gp_gp'\n",
    "* Get relevant deriviatives from table 'mri_y_rsfmr_cor_gp_gp'"
   ]
  },
  {
   "cell_type": "code",
   "execution_count": 10,
   "id": "9b45faa4-7dd9-4d39-a370-3122c744ef4e",
   "metadata": {},
   "outputs": [
    {
     "name": "stdout",
     "output_type": "stream",
     "text": [
      "Prior to merge rs df size is (19822, 2) and other df shape is (22130, 56)\n",
      "Any duplicated columns? True\n",
      "New rs df size is (22130, 56)\n"
     ]
    }
   ],
   "source": [
    "# do right merge, since more participants have resting state fmri data\n",
    "rs = get_deriviatives(rs, 'mri_y_rsfmr_cor_gp_gp.csv', tvars, how_merge='right')"
   ]
  },
  {
   "cell_type": "markdown",
   "id": "079c226d-0574-4eae-a4c8-b6d8d09c7278",
   "metadata": {},
   "source": [
    "### Load, Select, & Merge data, 'mri_y_rsfmr_cor_gp_aseg'\n",
    "* Get relevant deriviatives from table 'mri_y_rsfmr_cor_gp_aseg'"
   ]
  },
  {
   "cell_type": "code",
   "execution_count": 11,
   "id": "34eb9f8b-4e0b-46f6-bac5-3ec78c2c1268",
   "metadata": {},
   "outputs": [
    {
     "name": "stdout",
     "output_type": "stream",
     "text": [
      "Prior to merge rs df size is (22130, 56) and other df shape is (22130, 70)\n",
      "Any duplicated columns? True\n",
      "New rs df size is (22130, 124)\n"
     ]
    }
   ],
   "source": [
    "# do right merge, since more participants have resting state fmri data\n",
    "rs = get_deriviatives(rs, 'mri_y_rsfmr_cor_gp_aseg.csv', tvars, how_merge='right')"
   ]
  },
  {
   "cell_type": "code",
   "execution_count": 20,
   "id": "532971cb-7392-4a5e-b45e-8b582120bd44",
   "metadata": {},
   "outputs": [
    {
     "data": {
      "text/plain": [
       "['rsfmri_c_ngd_sa_ngd_dt',\n",
       " 'rsfmri_c_ngd_dt_ngd_ad',\n",
       " 'rsfmri_c_ngd_dt_ngd_cgc',\n",
       " 'rsfmri_c_ngd_dt_ngd_ca',\n",
       " 'rsfmri_c_ngd_dt_ngd_dt',\n",
       " 'rsfmri_c_ngd_dt_ngd_dla',\n",
       " 'rsfmri_c_ngd_dt_ngd_fo',\n",
       " 'rsfmri_c_ngd_dt_ngd_n',\n",
       " 'rsfmri_c_ngd_dt_ngd_rspltp',\n",
       " 'rsfmri_c_ngd_dt_ngd_sa',\n",
       " 'rsfmri_c_ngd_dt_ngd_smh',\n",
       " 'rsfmri_c_ngd_dt_ngd_smm',\n",
       " 'rsfmri_c_ngd_dt_ngd_vta',\n",
       " 'rsfmri_c_ngd_dt_ngd_vs',\n",
       " 'rsfmri_c_ngd_dt_ngd_dt',\n",
       " 'rsfmri_c_ngd_dt_ngd_vta',\n",
       " 'rsfmri_c_ngd_vta_ngd_dt',\n",
       " 'rsfmri_cor_ngd_df_scs_aalh',\n",
       " 'rsfmri_cor_ngd_df_scs_aarh',\n",
       " 'rsfmri_cor_ngd_df_scs_aglh',\n",
       " 'rsfmri_cor_ngd_df_scs_agrh',\n",
       " 'rsfmri_cor_ngd_df_scs_bs',\n",
       " 'rsfmri_cor_ngd_df_scs_cdelh',\n",
       " 'rsfmri_cor_ngd_df_scs_cderh',\n",
       " 'rsfmri_cor_ngd_df_scs_crcxlh',\n",
       " 'rsfmri_cor_ngd_df_scs_crcxrh',\n",
       " 'rsfmri_cor_ngd_df_scs_hplh',\n",
       " 'rsfmri_cor_ngd_df_scs_hprh',\n",
       " 'rsfmri_cor_ngd_df_scs_pllh',\n",
       " 'rsfmri_cor_ngd_df_scs_plrh',\n",
       " 'rsfmri_cor_ngd_df_scs_ptlh',\n",
       " 'rsfmri_cor_ngd_df_scs_ptrh',\n",
       " 'rsfmri_cor_ngd_df_scs_thplh',\n",
       " 'rsfmri_cor_ngd_df_scs_thprh',\n",
       " 'rsfmri_cor_ngd_df_scs_vtdclh',\n",
       " 'rsfmri_cor_ngd_df_scs_vtdcrh']"
      ]
     },
     "execution_count": 20,
     "metadata": {},
     "output_type": "execute_result"
    }
   ],
   "source": [
    "[d for d in rs.columns if 'dt' in d or 'df' in d]"
   ]
  },
  {
   "cell_type": "code",
   "execution_count": 13,
   "id": "b58cccc8-d94d-43a4-9fcc-d010bf76a1f7",
   "metadata": {},
   "outputs": [
    {
     "data": {
      "text/plain": [
       "['rsfmri_c_ngd_sa_ngd_vta',\n",
       " 'rsfmri_c_ngd_dt_ngd_vta',\n",
       " 'rsfmri_c_ngd_ad_ngd_vta',\n",
       " 'rsfmri_c_ngd_cgc_ngd_vta',\n",
       " 'rsfmri_c_ngd_ca_ngd_vta',\n",
       " 'rsfmri_c_ngd_dt_ngd_vta',\n",
       " 'rsfmri_c_ngd_dla_ngd_vta',\n",
       " 'rsfmri_c_ngd_fo_ngd_vta',\n",
       " 'rsfmri_c_ngd_n_ngd_vta',\n",
       " 'rsfmri_c_ngd_rspltp_ngd_vta',\n",
       " 'rsfmri_c_ngd_sa_ngd_vta',\n",
       " 'rsfmri_c_ngd_smh_ngd_vta',\n",
       " 'rsfmri_c_ngd_smm_ngd_vta',\n",
       " 'rsfmri_c_ngd_vta_ngd_ad',\n",
       " 'rsfmri_c_ngd_vta_ngd_cgc',\n",
       " 'rsfmri_c_ngd_vta_ngd_ca',\n",
       " 'rsfmri_c_ngd_vta_ngd_dt',\n",
       " 'rsfmri_c_ngd_vta_ngd_dla',\n",
       " 'rsfmri_c_ngd_vta_ngd_fo',\n",
       " 'rsfmri_c_ngd_vta_ngd_n',\n",
       " 'rsfmri_c_ngd_vta_ngd_rspltp',\n",
       " 'rsfmri_c_ngd_vta_ngd_sa',\n",
       " 'rsfmri_c_ngd_vta_ngd_smh',\n",
       " 'rsfmri_c_ngd_vta_ngd_smm',\n",
       " 'rsfmri_c_ngd_vta_ngd_vta',\n",
       " 'rsfmri_c_ngd_vta_ngd_vs',\n",
       " 'rsfmri_c_ngd_vs_ngd_vta',\n",
       " 'rsfmri_cor_ngd_vta_scs_aalh',\n",
       " 'rsfmri_cor_ngd_vta_scs_aarh',\n",
       " 'rsfmri_cor_ngd_vta_scs_aglh',\n",
       " 'rsfmri_cor_ngd_vta_scs_agrh',\n",
       " 'rsfmri_cor_ngd_vta_scs_cdelh',\n",
       " 'rsfmri_cor_ngd_vta_scs_cderh',\n",
       " 'rsfmri_cor_ngd_vta_scs_crcxlh',\n",
       " 'rsfmri_cor_ngd_vta_scs_crcxrh',\n",
       " 'rsfmri_cor_ngd_vta_scs_hplh',\n",
       " 'rsfmri_cor_ngd_vta_scs_hprh',\n",
       " 'rsfmri_cor_ngd_vta_scs_pllh',\n",
       " 'rsfmri_cor_ngd_vta_scs_plrh',\n",
       " 'rsfmri_cor_ngd_vta_scs_ptlh',\n",
       " 'rsfmri_cor_ngd_vta_scs_ptrh',\n",
       " 'rsfmri_cor_ngd_vta_scs_thplh',\n",
       " 'rsfmri_cor_ngd_vta_scs_thprh',\n",
       " 'rsfmri_cor_ngd_vta_scs_vtdclh',\n",
       " 'rsfmri_cor_ngd_vta_scs_vtdcrh']"
      ]
     },
     "execution_count": 13,
     "metadata": {},
     "output_type": "execute_result"
    }
   ],
   "source": [
    "[d for d in rs.columns if 'vta' in d]"
   ]
  },
  {
   "cell_type": "code",
   "execution_count": 14,
   "id": "5422c465-521a-44f6-9a10-2ad3a54ba2c8",
   "metadata": {},
   "outputs": [
    {
     "name": "stdout",
     "output_type": "stream",
     "text": [
      "included\n"
     ]
    }
   ],
   "source": [
    "if 'rsfmri_c_ngd_dt_ngd_dt' in rs.columns.tolist():\n",
    "    print('included')"
   ]
  },
  {
   "cell_type": "markdown",
   "id": "63b1c360-572e-4187-840b-1b415937600e",
   "metadata": {},
   "source": [
    "### Save overall df to csv output"
   ]
  },
  {
   "cell_type": "code",
   "execution_count": 15,
   "id": "fbecf609-9f93-417f-871e-ec65f227fc7b",
   "metadata": {},
   "outputs": [
    {
     "data": {
      "text/plain": [
       "(22130, 124)"
      ]
     },
     "execution_count": 15,
     "metadata": {},
     "output_type": "execute_result"
    }
   ],
   "source": [
    "rs.shape"
   ]
  },
  {
   "cell_type": "code",
   "execution_count": 12,
   "id": "2edb1fb6-3be9-4c85-ba67-6f663d4d3713",
   "metadata": {},
   "outputs": [],
   "source": [
    "if 'rsfmri_c_ngd_dt_ngd_dt' in rs.columns.tolist():\n",
    "    rs.to_csv(dpath + 'abcd5.1_tmri_negVneut_insula_df-df.csv', index=False)\n",
    "else:\n",
    "    rs.to_csv(dpath + 'abcd5.1_tmri_negVneut_insula.csv', index=False)"
   ]
  },
  {
   "cell_type": "code",
   "execution_count": null,
   "id": "97e1136a-9dcc-478a-b40d-e560ca3f48b4",
   "metadata": {},
   "outputs": [],
   "source": []
  },
  {
   "cell_type": "markdown",
   "id": "9c0488ef-d583-4f98-9a0e-b608b2a2fb64",
   "metadata": {},
   "source": [
    "#### For troubleshooting"
   ]
  },
  {
   "cell_type": "code",
   "execution_count": 19,
   "id": "92030ed8-c587-40b4-9c8f-e77f48d263b6",
   "metadata": {},
   "outputs": [
    {
     "name": "stdout",
     "output_type": "stream",
     "text": [
      "68\n"
     ]
    },
    {
     "data": {
      "text/plain": [
       "['rsfmri_cor_ngd_sa_scs_aalh',\n",
       " 'rsfmri_cor_ngd_sa_scs_aarh',\n",
       " 'rsfmri_cor_ngd_sa_scs_aglh',\n",
       " 'rsfmri_cor_ngd_sa_scs_agrh',\n",
       " 'rsfmri_cor_ngd_sa_scs_bs',\n",
       " 'rsfmri_cor_ngd_sa_scs_cdelh',\n",
       " 'rsfmri_cor_ngd_sa_scs_cderh',\n",
       " 'rsfmri_cor_ngd_sa_scs_crcxlh',\n",
       " 'rsfmri_cor_ngd_sa_scs_crcxrh',\n",
       " 'rsfmri_cor_ngd_sa_scs_hplh',\n",
       " 'rsfmri_cor_ngd_sa_scs_hprh',\n",
       " 'rsfmri_cor_ngd_sa_scs_pllh',\n",
       " 'rsfmri_cor_ngd_sa_scs_plrh',\n",
       " 'rsfmri_cor_ngd_sa_scs_ptlh',\n",
       " 'rsfmri_cor_ngd_sa_scs_ptrh',\n",
       " 'rsfmri_cor_ngd_sa_scs_thplh',\n",
       " 'rsfmri_cor_ngd_sa_scs_thprh',\n",
       " 'rsfmri_cor_ngd_sa_scs_vtdclh',\n",
       " 'rsfmri_cor_ngd_sa_scs_vtdcrh',\n",
       " 'rsfmri_cor_ngd_df_scs_aalh',\n",
       " 'rsfmri_cor_ngd_df_scs_aarh',\n",
       " 'rsfmri_cor_ngd_df_scs_aglh',\n",
       " 'rsfmri_cor_ngd_df_scs_agrh',\n",
       " 'rsfmri_cor_ngd_df_scs_bs',\n",
       " 'rsfmri_cor_ngd_df_scs_cdelh',\n",
       " 'rsfmri_cor_ngd_df_scs_cderh',\n",
       " 'rsfmri_cor_ngd_df_scs_crcxlh',\n",
       " 'rsfmri_cor_ngd_df_scs_crcxrh',\n",
       " 'rsfmri_cor_ngd_df_scs_hplh',\n",
       " 'rsfmri_cor_ngd_df_scs_hprh',\n",
       " 'rsfmri_cor_ngd_df_scs_pllh',\n",
       " 'rsfmri_cor_ngd_df_scs_plrh',\n",
       " 'rsfmri_cor_ngd_df_scs_ptlh',\n",
       " 'rsfmri_cor_ngd_df_scs_ptrh',\n",
       " 'rsfmri_cor_ngd_df_scs_thplh',\n",
       " 'rsfmri_cor_ngd_df_scs_thprh',\n",
       " 'rsfmri_cor_ngd_df_scs_vtdclh',\n",
       " 'rsfmri_cor_ngd_df_scs_vtdcrh',\n",
       " 'rsfmri_cor_ngd_vta_scs_aalh',\n",
       " 'rsfmri_cor_ngd_vta_scs_aarh',\n",
       " 'rsfmri_cor_ngd_vta_scs_aglh',\n",
       " 'rsfmri_cor_ngd_vta_scs_agrh',\n",
       " 'rsfmri_cor_ngd_vta_scs_cdelh',\n",
       " 'rsfmri_cor_ngd_vta_scs_cderh',\n",
       " 'rsfmri_cor_ngd_vta_scs_crcxlh',\n",
       " 'rsfmri_cor_ngd_vta_scs_crcxrh',\n",
       " 'rsfmri_cor_ngd_vta_scs_hplh',\n",
       " 'rsfmri_cor_ngd_vta_scs_hprh',\n",
       " 'rsfmri_cor_ngd_vta_scs_pllh',\n",
       " 'rsfmri_cor_ngd_vta_scs_plrh',\n",
       " 'rsfmri_cor_ngd_vta_scs_ptlh',\n",
       " 'rsfmri_cor_ngd_vta_scs_ptrh',\n",
       " 'rsfmri_cor_ngd_vta_scs_thplh',\n",
       " 'rsfmri_cor_ngd_vta_scs_thprh',\n",
       " 'rsfmri_cor_ngd_vta_scs_vtdclh',\n",
       " 'rsfmri_cor_ngd_vta_scs_vtdcrh',\n",
       " 'rsfmri_cor_ngd_dsa_scs_aalh',\n",
       " 'rsfmri_cor_ngd_dsa_scs_aarh',\n",
       " 'rsfmri_cor_ngd_dsa_scs_aglh',\n",
       " 'rsfmri_cor_ngd_dsa_scs_agrh',\n",
       " 'rsfmri_cor_ngd_dsa_scs_cdelh',\n",
       " 'rsfmri_cor_ngd_dsa_scs_cderh',\n",
       " 'rsfmri_cor_ngd_dsa_scs_crcxlh',\n",
       " 'rsfmri_cor_ngd_dsa_scs_crcxrh',\n",
       " 'rsfmri_cor_ngd_dsa_scs_hplh',\n",
       " 'rsfmri_cor_ngd_dsa_scs_hprh',\n",
       " 'rsfmri_cor_ngd_dsa_scs_ptlh',\n",
       " 'rsfmri_cor_ngd_dsa_scs_ptrh']"
      ]
     },
     "execution_count": 19,
     "metadata": {},
     "output_type": "execute_result"
    }
   ],
   "source": [
    "df = rs.copy()\n",
    "table_file = 'mri_y_rsfmr_cor_gp_aseg.csv'\n",
    "table_key = tvars\n",
    "how_merge = 'right'\n",
    "\n",
    "dat = pd.read_csv(dpath + table_file)\n",
    "# get table name, which is the string before the period\n",
    "table = table_file.split('.')[0]\n",
    "# get column names sub and event which will need for merging dataframes\n",
    "# it's the same for each df so overwriting is fine\n",
    "se_nms = dat.columns[:2].values.tolist()\n",
    "# deriviative variables desired\n",
    "deriviative_cols = table_key[table_key['Table']==table]['Variable'].values.tolist()\n",
    "\n",
    "print(len(deriviative_cols))\n",
    "deriviative_cols"
   ]
  },
  {
   "cell_type": "code",
   "execution_count": null,
   "id": "434e6d2b-fd4e-4453-bda0-9cc731bf9652",
   "metadata": {},
   "outputs": [],
   "source": []
  }
 ],
 "metadata": {
  "kernelspec": {
   "display_name": "Python 3 (ipykernel)",
   "language": "python",
   "name": "python3"
  },
  "language_info": {
   "codemirror_mode": {
    "name": "ipython",
    "version": 3
   },
   "file_extension": ".py",
   "mimetype": "text/x-python",
   "name": "python",
   "nbconvert_exporter": "python",
   "pygments_lexer": "ipython3",
   "version": "3.11.7"
  }
 },
 "nbformat": 4,
 "nbformat_minor": 5
}
