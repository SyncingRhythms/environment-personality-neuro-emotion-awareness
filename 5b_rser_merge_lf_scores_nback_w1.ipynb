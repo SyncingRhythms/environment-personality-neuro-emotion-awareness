{
 "cells": [
  {
   "cell_type": "code",
   "execution_count": 1,
   "id": "9a44c76a-76eb-450e-8e44-b3aecfa67889",
   "metadata": {},
   "outputs": [],
   "source": [
    "import numpy as np\n",
    "import pandas as pd\n",
    "\n",
    "import matplotlib as mpl\n",
    "import matplotlib.pyplot as plt\n",
    "\n",
    "import seaborn as sns\n",
    "import seaborn.objects as so\n",
    "\n",
    "from functools import reduce\n",
    "from itertools import combinations\n",
    "\n",
    "from scipy import stats\n",
    "\n",
    "# configure pandas\n",
    "pd.set_option('display.width', 500)\n",
    "pd.set_option('display.max_columns', 200)\n",
    "pd.set_option('display.max_rows', 200)"
   ]
  },
  {
   "cell_type": "code",
   "execution_count": 2,
   "id": "10cbdfef-555f-4650-a2e0-c1d1a1368bfe",
   "metadata": {},
   "outputs": [],
   "source": [
    "home = 0"
   ]
  },
  {
   "cell_type": "code",
   "execution_count": 3,
   "id": "74086d5e-5d13-492b-8fb4-270064c134a5",
   "metadata": {},
   "outputs": [],
   "source": [
    "if home:\n",
    "    dpath = '/Users/cglab/projects/abcd/data/abcd5.1-rser/'\n",
    "else:\n",
    "    dpath = '/home/cglab/projects/abcd/data/abcd5.1-rser/'"
   ]
  },
  {
   "cell_type": "markdown",
   "id": "d8fce5fd-415a-4549-bf57-1b8566a85ab8",
   "metadata": {},
   "source": [
    "### Load Lavaan Latent factor summary scores"
   ]
  },
  {
   "cell_type": "code",
   "execution_count": 4,
   "id": "14b0a166-e808-471f-96e9-0e38fd6be0c6",
   "metadata": {},
   "outputs": [
    {
     "data": {
      "text/html": [
       "<div>\n",
       "<style scoped>\n",
       "    .dataframe tbody tr th:only-of-type {\n",
       "        vertical-align: middle;\n",
       "    }\n",
       "\n",
       "    .dataframe tbody tr th {\n",
       "        vertical-align: top;\n",
       "    }\n",
       "\n",
       "    .dataframe thead th {\n",
       "        text-align: right;\n",
       "    }\n",
       "</style>\n",
       "<table border=\"1\" class=\"dataframe\">\n",
       "  <thead>\n",
       "    <tr style=\"text-align: right;\">\n",
       "      <th></th>\n",
       "      <th>Aware</th>\n",
       "      <th>NoAcpt</th>\n",
       "      <th>Implse</th>\n",
       "      <th>Goals</th>\n",
       "      <th>Threat</th>\n",
       "      <th>Threat9</th>\n",
       "      <th>subID</th>\n",
       "    </tr>\n",
       "  </thead>\n",
       "  <tbody>\n",
       "    <tr>\n",
       "      <th>0</th>\n",
       "      <td>-1.055112</td>\n",
       "      <td>-0.576328</td>\n",
       "      <td>-0.652295</td>\n",
       "      <td>-1.172302</td>\n",
       "      <td>-0.715173</td>\n",
       "      <td>-0.348836</td>\n",
       "      <td>NDAR_INV003RTV85</td>\n",
       "    </tr>\n",
       "    <tr>\n",
       "      <th>1</th>\n",
       "      <td>-0.250261</td>\n",
       "      <td>-0.527787</td>\n",
       "      <td>0.047790</td>\n",
       "      <td>-0.460943</td>\n",
       "      <td>0.622151</td>\n",
       "      <td>0.654022</td>\n",
       "      <td>NDAR_INV007W6H7B</td>\n",
       "    </tr>\n",
       "    <tr>\n",
       "      <th>2</th>\n",
       "      <td>NaN</td>\n",
       "      <td>NaN</td>\n",
       "      <td>NaN</td>\n",
       "      <td>NaN</td>\n",
       "      <td>-0.312589</td>\n",
       "      <td>-0.404786</td>\n",
       "      <td>NDAR_INV00BD7VDC</td>\n",
       "    </tr>\n",
       "    <tr>\n",
       "      <th>3</th>\n",
       "      <td>1.754136</td>\n",
       "      <td>-0.466417</td>\n",
       "      <td>0.896197</td>\n",
       "      <td>0.546880</td>\n",
       "      <td>1.420222</td>\n",
       "      <td>1.565469</td>\n",
       "      <td>NDAR_INV00CY2MDM</td>\n",
       "    </tr>\n",
       "    <tr>\n",
       "      <th>4</th>\n",
       "      <td>-0.203931</td>\n",
       "      <td>0.423931</td>\n",
       "      <td>0.437713</td>\n",
       "      <td>0.147407</td>\n",
       "      <td>-0.715173</td>\n",
       "      <td>-0.834722</td>\n",
       "      <td>NDAR_INV00HEV6HB</td>\n",
       "    </tr>\n",
       "  </tbody>\n",
       "</table>\n",
       "</div>"
      ],
      "text/plain": [
       "      Aware    NoAcpt    Implse     Goals    Threat   Threat9             subID\n",
       "0 -1.055112 -0.576328 -0.652295 -1.172302 -0.715173 -0.348836  NDAR_INV003RTV85\n",
       "1 -0.250261 -0.527787  0.047790 -0.460943  0.622151  0.654022  NDAR_INV007W6H7B\n",
       "2       NaN       NaN       NaN       NaN -0.312589 -0.404786  NDAR_INV00BD7VDC\n",
       "3  1.754136 -0.466417  0.896197  0.546880  1.420222  1.565469  NDAR_INV00CY2MDM\n",
       "4 -0.203931  0.423931  0.437713  0.147407 -0.715173 -0.834722  NDAR_INV00HEV6HB"
      ]
     },
     "execution_count": 4,
     "metadata": {},
     "output_type": "execute_result"
    }
   ],
   "source": [
    "lf = pd.read_csv(dpath + \"lf_scores_thrt79_ders_all_sep_w1.csv\")\n",
    "lf.head()"
   ]
  },
  {
   "cell_type": "code",
   "execution_count": 5,
   "id": "c38f9a5d-e91c-4f43-9dac-d261e3249130",
   "metadata": {},
   "outputs": [
    {
     "data": {
      "text/plain": [
       "(7169, 7)"
      ]
     },
     "execution_count": 5,
     "metadata": {},
     "output_type": "execute_result"
    }
   ],
   "source": [
    "lf.shape"
   ]
  },
  {
   "cell_type": "code",
   "execution_count": 6,
   "id": "9f229c8b-def7-4474-a103-bcb56fe12c58",
   "metadata": {},
   "outputs": [
    {
     "data": {
      "text/plain": [
       "Aware      1100\n",
       "NoAcpt     1100\n",
       "Implse     1100\n",
       "Goals      1100\n",
       "Threat        1\n",
       "Threat9       1\n",
       "subID         0\n",
       "dtype: int64"
      ]
     },
     "execution_count": 6,
     "metadata": {},
     "output_type": "execute_result"
    }
   ],
   "source": [
    "lf.isnull().sum()"
   ]
  },
  {
   "cell_type": "markdown",
   "id": "cc92e713-b233-44c0-be1a-3df3ac1ffe7a",
   "metadata": {},
   "source": [
    "### Compute the Quadratic and Cubic Threat\n",
    "* using Lavaan latent factor summary scores"
   ]
  },
  {
   "cell_type": "code",
   "execution_count": 7,
   "id": "8ee236b2-161c-41c7-bfd8-a9620b26497b",
   "metadata": {},
   "outputs": [],
   "source": [
    "lf['ThreatSQ'] = lf['Threat']**2\n",
    "lf['ThreatCB'] = lf['Threat']**3"
   ]
  },
  {
   "cell_type": "code",
   "execution_count": 8,
   "id": "b41791ee-19ca-4b45-adb1-3ef88c90fa99",
   "metadata": {},
   "outputs": [
    {
     "data": {
      "text/html": [
       "<div>\n",
       "<style scoped>\n",
       "    .dataframe tbody tr th:only-of-type {\n",
       "        vertical-align: middle;\n",
       "    }\n",
       "\n",
       "    .dataframe tbody tr th {\n",
       "        vertical-align: top;\n",
       "    }\n",
       "\n",
       "    .dataframe thead th {\n",
       "        text-align: right;\n",
       "    }\n",
       "</style>\n",
       "<table border=\"1\" class=\"dataframe\">\n",
       "  <thead>\n",
       "    <tr style=\"text-align: right;\">\n",
       "      <th></th>\n",
       "      <th>Aware</th>\n",
       "      <th>NoAcpt</th>\n",
       "      <th>Implse</th>\n",
       "      <th>Goals</th>\n",
       "      <th>Threat</th>\n",
       "      <th>Threat9</th>\n",
       "      <th>subID</th>\n",
       "      <th>ThreatSQ</th>\n",
       "      <th>ThreatCB</th>\n",
       "    </tr>\n",
       "  </thead>\n",
       "  <tbody>\n",
       "    <tr>\n",
       "      <th>0</th>\n",
       "      <td>-1.055112</td>\n",
       "      <td>-0.576328</td>\n",
       "      <td>-0.652295</td>\n",
       "      <td>-1.172302</td>\n",
       "      <td>-0.715173</td>\n",
       "      <td>-0.348836</td>\n",
       "      <td>NDAR_INV003RTV85</td>\n",
       "      <td>0.511473</td>\n",
       "      <td>-0.365792</td>\n",
       "    </tr>\n",
       "    <tr>\n",
       "      <th>1</th>\n",
       "      <td>-0.250261</td>\n",
       "      <td>-0.527787</td>\n",
       "      <td>0.047790</td>\n",
       "      <td>-0.460943</td>\n",
       "      <td>0.622151</td>\n",
       "      <td>0.654022</td>\n",
       "      <td>NDAR_INV007W6H7B</td>\n",
       "      <td>0.387072</td>\n",
       "      <td>0.240817</td>\n",
       "    </tr>\n",
       "    <tr>\n",
       "      <th>2</th>\n",
       "      <td>NaN</td>\n",
       "      <td>NaN</td>\n",
       "      <td>NaN</td>\n",
       "      <td>NaN</td>\n",
       "      <td>-0.312589</td>\n",
       "      <td>-0.404786</td>\n",
       "      <td>NDAR_INV00BD7VDC</td>\n",
       "      <td>0.097712</td>\n",
       "      <td>-0.030544</td>\n",
       "    </tr>\n",
       "    <tr>\n",
       "      <th>3</th>\n",
       "      <td>1.754136</td>\n",
       "      <td>-0.466417</td>\n",
       "      <td>0.896197</td>\n",
       "      <td>0.546880</td>\n",
       "      <td>1.420222</td>\n",
       "      <td>1.565469</td>\n",
       "      <td>NDAR_INV00CY2MDM</td>\n",
       "      <td>2.017029</td>\n",
       "      <td>2.864629</td>\n",
       "    </tr>\n",
       "    <tr>\n",
       "      <th>4</th>\n",
       "      <td>-0.203931</td>\n",
       "      <td>0.423931</td>\n",
       "      <td>0.437713</td>\n",
       "      <td>0.147407</td>\n",
       "      <td>-0.715173</td>\n",
       "      <td>-0.834722</td>\n",
       "      <td>NDAR_INV00HEV6HB</td>\n",
       "      <td>0.511473</td>\n",
       "      <td>-0.365792</td>\n",
       "    </tr>\n",
       "    <tr>\n",
       "      <th>5</th>\n",
       "      <td>-0.017787</td>\n",
       "      <td>0.701461</td>\n",
       "      <td>1.630144</td>\n",
       "      <td>1.694885</td>\n",
       "      <td>-0.715173</td>\n",
       "      <td>-0.834722</td>\n",
       "      <td>NDAR_INV00J52GPG</td>\n",
       "      <td>0.511473</td>\n",
       "      <td>-0.365792</td>\n",
       "    </tr>\n",
       "    <tr>\n",
       "      <th>6</th>\n",
       "      <td>-0.926860</td>\n",
       "      <td>-0.033235</td>\n",
       "      <td>-0.396953</td>\n",
       "      <td>1.603505</td>\n",
       "      <td>-0.284744</td>\n",
       "      <td>-0.429204</td>\n",
       "      <td>NDAR_INV00R4TXET</td>\n",
       "      <td>0.081079</td>\n",
       "      <td>-0.023087</td>\n",
       "    </tr>\n",
       "    <tr>\n",
       "      <th>7</th>\n",
       "      <td>0.385712</td>\n",
       "      <td>1.127675</td>\n",
       "      <td>1.346087</td>\n",
       "      <td>1.831457</td>\n",
       "      <td>-0.715173</td>\n",
       "      <td>-0.598170</td>\n",
       "      <td>NDAR_INV00U4FTRU</td>\n",
       "      <td>0.511473</td>\n",
       "      <td>-0.365792</td>\n",
       "    </tr>\n",
       "    <tr>\n",
       "      <th>8</th>\n",
       "      <td>-0.873808</td>\n",
       "      <td>-0.463824</td>\n",
       "      <td>-0.592179</td>\n",
       "      <td>-0.540034</td>\n",
       "      <td>-0.312589</td>\n",
       "      <td>-0.404786</td>\n",
       "      <td>NDAR_INV00UMK5VC</td>\n",
       "      <td>0.097712</td>\n",
       "      <td>-0.030544</td>\n",
       "    </tr>\n",
       "    <tr>\n",
       "      <th>9</th>\n",
       "      <td>-1.203678</td>\n",
       "      <td>-0.476946</td>\n",
       "      <td>-0.631369</td>\n",
       "      <td>-0.941261</td>\n",
       "      <td>-0.715173</td>\n",
       "      <td>-0.598170</td>\n",
       "      <td>NDAR_INV00X2TBWJ</td>\n",
       "      <td>0.511473</td>\n",
       "      <td>-0.365792</td>\n",
       "    </tr>\n",
       "  </tbody>\n",
       "</table>\n",
       "</div>"
      ],
      "text/plain": [
       "      Aware    NoAcpt    Implse     Goals    Threat   Threat9             subID  ThreatSQ  ThreatCB\n",
       "0 -1.055112 -0.576328 -0.652295 -1.172302 -0.715173 -0.348836  NDAR_INV003RTV85  0.511473 -0.365792\n",
       "1 -0.250261 -0.527787  0.047790 -0.460943  0.622151  0.654022  NDAR_INV007W6H7B  0.387072  0.240817\n",
       "2       NaN       NaN       NaN       NaN -0.312589 -0.404786  NDAR_INV00BD7VDC  0.097712 -0.030544\n",
       "3  1.754136 -0.466417  0.896197  0.546880  1.420222  1.565469  NDAR_INV00CY2MDM  2.017029  2.864629\n",
       "4 -0.203931  0.423931  0.437713  0.147407 -0.715173 -0.834722  NDAR_INV00HEV6HB  0.511473 -0.365792\n",
       "5 -0.017787  0.701461  1.630144  1.694885 -0.715173 -0.834722  NDAR_INV00J52GPG  0.511473 -0.365792\n",
       "6 -0.926860 -0.033235 -0.396953  1.603505 -0.284744 -0.429204  NDAR_INV00R4TXET  0.081079 -0.023087\n",
       "7  0.385712  1.127675  1.346087  1.831457 -0.715173 -0.598170  NDAR_INV00U4FTRU  0.511473 -0.365792\n",
       "8 -0.873808 -0.463824 -0.592179 -0.540034 -0.312589 -0.404786  NDAR_INV00UMK5VC  0.097712 -0.030544\n",
       "9 -1.203678 -0.476946 -0.631369 -0.941261 -0.715173 -0.598170  NDAR_INV00X2TBWJ  0.511473 -0.365792"
      ]
     },
     "execution_count": 8,
     "metadata": {},
     "output_type": "execute_result"
    }
   ],
   "source": [
    "lf.head(10)"
   ]
  },
  {
   "cell_type": "markdown",
   "id": "5a031e90-f1ab-4a39-a08d-48d465db298d",
   "metadata": {},
   "source": [
    "### Load full RSER dataframe"
   ]
  },
  {
   "cell_type": "code",
   "execution_count": 9,
   "id": "e5b5e61d-914a-4c7f-b4cd-6a3741d4c611",
   "metadata": {},
   "outputs": [
    {
     "data": {
      "text/plain": [
       "(7173, 256)"
      ]
     },
     "execution_count": 9,
     "metadata": {},
     "output_type": "execute_result"
    }
   ],
   "source": [
    "rser = pd.read_csv(dpath + 'abcd5.1_tfmri_nback_insula_subc_net_ders_gses_sfam_thrt_demo_noscl_nopt_w1_qc.csv', low_memory=False)\n",
    "rser.shape"
   ]
  },
  {
   "cell_type": "code",
   "execution_count": 10,
   "id": "4a79c498-1238-4baa-8928-768bff2fdcc5",
   "metadata": {},
   "outputs": [
    {
     "data": {
      "text/plain": [
       "subID                    object\n",
       "AmygL1                  float64\n",
       "AmygR1                  float64\n",
       "tfmrinbackallsem_224    float64\n",
       "tfmrinbackallsem_238    float64\n",
       "                         ...   \n",
       "SFconP8                 float64\n",
       "SFconP9                 float64\n",
       "pedu                    float64\n",
       "pedu2                   float64\n",
       "income                  float64\n",
       "Length: 256, dtype: object"
      ]
     },
     "execution_count": 10,
     "metadata": {},
     "output_type": "execute_result"
    }
   ],
   "source": [
    "rser.dtypes"
   ]
  },
  {
   "cell_type": "code",
   "execution_count": 11,
   "id": "e8aebfee-a2f6-4b7c-91c2-b2c05094382a",
   "metadata": {},
   "outputs": [
    {
     "data": {
      "text/plain": [
       "AmygL1    0\n",
       "AmygR1    0\n",
       "dtype: int64"
      ]
     },
     "execution_count": 11,
     "metadata": {},
     "output_type": "execute_result"
    }
   ],
   "source": [
    "rser[['AmygL1', 'AmygR1']].isnull().sum()"
   ]
  },
  {
   "cell_type": "markdown",
   "id": "054ac4e0-0208-4d42-b4f5-1595de479424",
   "metadata": {},
   "source": [
    "### Merge Latent factor df with RSER df"
   ]
  },
  {
   "cell_type": "code",
   "execution_count": 12,
   "id": "88d03e27-0d0f-4a28-b8c3-683193d44518",
   "metadata": {},
   "outputs": [
    {
     "data": {
      "text/plain": [
       "(7173, 264)"
      ]
     },
     "execution_count": 12,
     "metadata": {},
     "output_type": "execute_result"
    }
   ],
   "source": [
    "lf = lf.merge(rser, how=\"right\", on=\"subID\")\n",
    "lf.shape"
   ]
  },
  {
   "cell_type": "code",
   "execution_count": 13,
   "id": "be31d45a-e9ad-45c7-aa37-a639d227e757",
   "metadata": {},
   "outputs": [
    {
     "data": {
      "text/plain": [
       "AmygL1    0\n",
       "AmygR1    0\n",
       "dtype: int64"
      ]
     },
     "execution_count": 13,
     "metadata": {},
     "output_type": "execute_result"
    }
   ],
   "source": [
    "lf[['AmygL1', 'AmygR1']].isnull().sum()"
   ]
  },
  {
   "cell_type": "code",
   "execution_count": 14,
   "id": "915d32c2-7454-48eb-8790-7e450c50581a",
   "metadata": {},
   "outputs": [
    {
     "data": {
      "text/plain": [
       "0"
      ]
     },
     "execution_count": 14,
     "metadata": {},
     "output_type": "execute_result"
    }
   ],
   "source": [
    "lf['AmygL1'].isnull().sum()"
   ]
  },
  {
   "cell_type": "code",
   "execution_count": 15,
   "id": "dfd9fce3-731b-4013-824e-34d7b63ee23f",
   "metadata": {},
   "outputs": [
    {
     "data": {
      "text/plain": [
       "['MotT1']"
      ]
     },
     "execution_count": 15,
     "metadata": {},
     "output_type": "execute_result"
    }
   ],
   "source": [
    "[c for c in lf.columns if 'Mot' in c]"
   ]
  },
  {
   "cell_type": "markdown",
   "id": "aa5c8581-d6b3-4e5b-ac52-528c424a9b18",
   "metadata": {},
   "source": [
    "#### Export merged data \n",
    "* including full dataframe and latent factor summary scores"
   ]
  },
  {
   "cell_type": "code",
   "execution_count": 16,
   "id": "addd20e0-c918-415b-8906-4b443807383b",
   "metadata": {},
   "outputs": [],
   "source": [
    "lf.to_csv(dpath + 'abcd5.1_tfmri_nback_insula_subc_net_ders_gses_sfam_thrt_demo_noscl_nopt_w1_qc_lfa_w1_full.csv', index=False)"
   ]
  },
  {
   "cell_type": "code",
   "execution_count": null,
   "id": "f068e7fa-a9a2-4ad8-a616-0fc6e0fce197",
   "metadata": {},
   "outputs": [],
   "source": []
  }
 ],
 "metadata": {
  "kernelspec": {
   "display_name": "Python 3 (ipykernel)",
   "language": "python",
   "name": "python3"
  },
  "language_info": {
   "codemirror_mode": {
    "name": "ipython",
    "version": 3
   },
   "file_extension": ".py",
   "mimetype": "text/x-python",
   "name": "python",
   "nbconvert_exporter": "python",
   "pygments_lexer": "ipython3",
   "version": "3.11.7"
  }
 },
 "nbformat": 4,
 "nbformat_minor": 5
}
