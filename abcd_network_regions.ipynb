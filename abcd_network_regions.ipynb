{
 "cells": [
  {
   "cell_type": "code",
   "execution_count": 3,
   "id": "8cd6d8dd-1a67-4a76-8c71-dd748a2a0cb6",
   "metadata": {},
   "outputs": [],
   "source": [
    "import numpy as np\n",
    "import pandas as pd\n",
    "\n",
    "import matplotlib as mpl\n",
    "import matplotlib.pyplot as plt\n",
    "\n",
    "import seaborn as sns\n",
    "import seaborn.objects as so"
   ]
  },
  {
   "cell_type": "markdown",
   "id": "06efb3e8-6813-49c3-852a-92e9fb7e74e6",
   "metadata": {},
   "source": [
    "## Input 0 or 1"
   ]
  },
  {
   "cell_type": "code",
   "execution_count": 8,
   "id": "11f674db-6d46-46c6-b914-bfda8dbfc993",
   "metadata": {},
   "outputs": [],
   "source": [
    "home = 1"
   ]
  },
  {
   "cell_type": "code",
   "execution_count": 9,
   "id": "187ab0f1-152e-4cc0-81b6-f71aebf79fa5",
   "metadata": {},
   "outputs": [],
   "source": [
    "if home:\n",
    "    dpath = '/Users/cglab/projects/abcd/data/'\n",
    "else:\n",
    "    dpath = '/home/cglab/projects/abcd/data/'"
   ]
  },
  {
   "cell_type": "code",
   "execution_count": 14,
   "id": "1fb19873-6525-411b-b793-5d3485fef27f",
   "metadata": {},
   "outputs": [
    {
     "data": {
      "text/html": [
       "<div>\n",
       "<style scoped>\n",
       "    .dataframe tbody tr th:only-of-type {\n",
       "        vertical-align: middle;\n",
       "    }\n",
       "\n",
       "    .dataframe tbody tr th {\n",
       "        vertical-align: top;\n",
       "    }\n",
       "\n",
       "    .dataframe thead th {\n",
       "        text-align: right;\n",
       "    }\n",
       "</style>\n",
       "<table border=\"1\" class=\"dataframe\">\n",
       "  <thead>\n",
       "    <tr style=\"text-align: right;\">\n",
       "      <th></th>\n",
       "      <th>roi</th>\n",
       "      <th>network</th>\n",
       "      <th>surface</th>\n",
       "      <th>centroid</th>\n",
       "      <th>nearest</th>\n",
       "    </tr>\n",
       "  </thead>\n",
       "  <tbody>\n",
       "    <tr>\n",
       "      <th>0</th>\n",
       "      <td>NaN</td>\n",
       "      <td>NaN</td>\n",
       "      <td>area (mm2)</td>\n",
       "      <td>(MNI)</td>\n",
       "      <td>Destrieux Parcel</td>\n",
       "    </tr>\n",
       "    <tr>\n",
       "      <th>1</th>\n",
       "      <td>ctx-lh-gp1</td>\n",
       "      <td>Default</td>\n",
       "      <td>1412</td>\n",
       "      <td>-11.2 -52.4 36.5</td>\n",
       "      <td>S_subparietal</td>\n",
       "    </tr>\n",
       "    <tr>\n",
       "      <th>2</th>\n",
       "      <td>ctx-lh-gp2</td>\n",
       "      <td>SMhand</td>\n",
       "      <td>377</td>\n",
       "      <td>-18.8 -48.7 65</td>\n",
       "      <td>G_parietal_sup</td>\n",
       "    </tr>\n",
       "    <tr>\n",
       "      <th>3</th>\n",
       "      <td>ctx-lh-gp3</td>\n",
       "      <td>SMmouth</td>\n",
       "      <td>437</td>\n",
       "      <td>-51.8 -7.8 38.5</td>\n",
       "      <td>G_precentral</td>\n",
       "    </tr>\n",
       "    <tr>\n",
       "      <th>4</th>\n",
       "      <td>ctx-lh-gp4</td>\n",
       "      <td>Default</td>\n",
       "      <td>369</td>\n",
       "      <td>-11.7 26.7 57</td>\n",
       "      <td>G_front_sup</td>\n",
       "    </tr>\n",
       "  </tbody>\n",
       "</table>\n",
       "</div>"
      ],
      "text/plain": [
       "          roi  network     surface          centroid           nearest\n",
       "0         NaN      NaN  area (mm2)             (MNI)  Destrieux Parcel\n",
       "1  ctx-lh-gp1  Default        1412  -11.2 -52.4 36.5     S_subparietal\n",
       "2  ctx-lh-gp2   SMhand         377    -18.8 -48.7 65    G_parietal_sup\n",
       "3  ctx-lh-gp3  SMmouth         437   -51.8 -7.8 38.5      G_precentral\n",
       "4  ctx-lh-gp4  Default         369     -11.7 26.7 57       G_front_sup"
      ]
     },
     "execution_count": 14,
     "metadata": {},
     "output_type": "execute_result"
    }
   ],
   "source": [
    "reg = pd.read_excel(dpath + 'abcd_network_regions.xlsx')\n",
    "reg.rename(columns={'ROI label': 'roi', 'Community': 'network', 'Surface': 'surface', 'Centroid': 'centroid', 'Nearest': 'nearest'}, inplace=True)\n",
    "reg.head()"
   ]
  },
  {
   "cell_type": "code",
   "execution_count": 15,
   "id": "69b2d424-9310-4ad1-b97b-de0c9ee0bb4a",
   "metadata": {},
   "outputs": [
    {
     "data": {
      "text/html": [
       "<div>\n",
       "<style scoped>\n",
       "    .dataframe tbody tr th:only-of-type {\n",
       "        vertical-align: middle;\n",
       "    }\n",
       "\n",
       "    .dataframe tbody tr th {\n",
       "        vertical-align: top;\n",
       "    }\n",
       "\n",
       "    .dataframe thead th {\n",
       "        text-align: right;\n",
       "    }\n",
       "</style>\n",
       "<table border=\"1\" class=\"dataframe\">\n",
       "  <thead>\n",
       "    <tr style=\"text-align: right;\">\n",
       "      <th></th>\n",
       "      <th>roi</th>\n",
       "      <th>network</th>\n",
       "      <th>surface</th>\n",
       "      <th>centroid</th>\n",
       "      <th>nearest</th>\n",
       "    </tr>\n",
       "  </thead>\n",
       "  <tbody>\n",
       "    <tr>\n",
       "      <th>12</th>\n",
       "      <td>ctx-lh-gp12</td>\n",
       "      <td>CinguloParietal</td>\n",
       "      <td>134</td>\n",
       "      <td>-6.1 -26 28.5</td>\n",
       "      <td>S_pericallosal</td>\n",
       "    </tr>\n",
       "    <tr>\n",
       "      <th>89</th>\n",
       "      <td>ctx-lh-gp89</td>\n",
       "      <td>CinguloParietal</td>\n",
       "      <td>118</td>\n",
       "      <td>-12.7 -64.9 31.8</td>\n",
       "      <td>S_parieto_occipital</td>\n",
       "    </tr>\n",
       "    <tr>\n",
       "      <th>93</th>\n",
       "      <td>ctx-lh-gp93</td>\n",
       "      <td>CinguloParietal</td>\n",
       "      <td>215</td>\n",
       "      <td>-10.9 -73.4 42.9</td>\n",
       "      <td>G_parietal_sup</td>\n",
       "    </tr>\n",
       "    <tr>\n",
       "      <th>173</th>\n",
       "      <td>ctx-rh-gp173</td>\n",
       "      <td>CinguloParietal</td>\n",
       "      <td>138</td>\n",
       "      <td>7.6 -27 28.4</td>\n",
       "      <td>S_pericallosal</td>\n",
       "    </tr>\n",
       "    <tr>\n",
       "      <th>254</th>\n",
       "      <td>ctx-rh-gp254</td>\n",
       "      <td>CinguloParietal</td>\n",
       "      <td>288</td>\n",
       "      <td>15.6 -69.5 39.6</td>\n",
       "      <td>S_parieto_occipital</td>\n",
       "    </tr>\n",
       "  </tbody>\n",
       "</table>\n",
       "</div>"
      ],
      "text/plain": [
       "              roi          network surface          centroid  \\\n",
       "12    ctx-lh-gp12  CinguloParietal     134     -6.1 -26 28.5   \n",
       "89    ctx-lh-gp89  CinguloParietal     118  -12.7 -64.9 31.8   \n",
       "93    ctx-lh-gp93  CinguloParietal     215  -10.9 -73.4 42.9   \n",
       "173  ctx-rh-gp173  CinguloParietal     138      7.6 -27 28.4   \n",
       "254  ctx-rh-gp254  CinguloParietal     288   15.6 -69.5 39.6   \n",
       "\n",
       "                 nearest  \n",
       "12        S_pericallosal  \n",
       "89   S_parieto_occipital  \n",
       "93        G_parietal_sup  \n",
       "173       S_pericallosal  \n",
       "254  S_parieto_occipital  "
      ]
     },
     "execution_count": 15,
     "metadata": {},
     "output_type": "execute_result"
    }
   ],
   "source": [
    "reg[reg.network=='CinguloParietal']"
   ]
  },
  {
   "cell_type": "code",
   "execution_count": null,
   "id": "ca5963fa-82fd-467f-bf00-c3a8722482e4",
   "metadata": {},
   "outputs": [],
   "source": []
  }
 ],
 "metadata": {
  "kernelspec": {
   "display_name": "Python 3 (ipykernel)",
   "language": "python",
   "name": "python3"
  },
  "language_info": {
   "codemirror_mode": {
    "name": "ipython",
    "version": 3
   },
   "file_extension": ".py",
   "mimetype": "text/x-python",
   "name": "python",
   "nbconvert_exporter": "python",
   "pygments_lexer": "ipython3",
   "version": "3.12.3"
  }
 },
 "nbformat": 4,
 "nbformat_minor": 5
}
