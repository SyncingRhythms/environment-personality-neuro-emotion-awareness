{
 "cells": [
  {
   "cell_type": "code",
   "execution_count": 1,
   "id": "9a44c76a-76eb-450e-8e44-b3aecfa67889",
   "metadata": {},
   "outputs": [],
   "source": [
    "import numpy as np\n",
    "import pandas as pd\n",
    "\n",
    "import matplotlib as mpl\n",
    "import matplotlib.pyplot as plt\n",
    "\n",
    "import seaborn as sns\n",
    "import seaborn.objects as so\n",
    "\n",
    "from functools import reduce\n",
    "from itertools import combinations\n",
    "\n",
    "from scipy import stats\n",
    "\n",
    "# configure pandas\n",
    "pd.set_option('display.width', 500)\n",
    "pd.set_option('display.max_columns', 200)\n",
    "pd.set_option('display.max_rows', 200)"
   ]
  },
  {
   "cell_type": "code",
   "execution_count": 2,
   "id": "10cbdfef-555f-4650-a2e0-c1d1a1368bfe",
   "metadata": {},
   "outputs": [],
   "source": [
    "home = 0"
   ]
  },
  {
   "cell_type": "code",
   "execution_count": 3,
   "id": "74086d5e-5d13-492b-8fb4-270064c134a5",
   "metadata": {},
   "outputs": [],
   "source": [
    "if home:\n",
    "    dpath = '/Users/cglab/projects/abcd/data/abcd5.1-rser/'\n",
    "else:\n",
    "    dpath = '/home/cglab/projects/abcd/data/abcd5.1-rser/'"
   ]
  },
  {
   "cell_type": "markdown",
   "id": "e1a369c4-0497-453c-8d06-76d990f65094",
   "metadata": {},
   "source": [
    "#### Functions"
   ]
  },
  {
   "cell_type": "code",
   "execution_count": 4,
   "id": "c38f9a5d-e91c-4f43-9dac-d261e3249130",
   "metadata": {},
   "outputs": [],
   "source": [
    "def get_deriviatives(df, table_file, table_key, how):\n",
    "    dat = pd.read_csv(dpath + table_file)\n",
    "    # get table name, which is the string before the period\n",
    "    table = table_file.split('.')[0]\n",
    "    # get column names sub and event which we'll need for merging dataframes\n",
    "    # it's the same for each df so numeric index is fine, but check for future data\n",
    "    se_nms = dat.columns[:2].values.tolist()\n",
    "    # deriviative variables desired\n",
    "    deriviative_cols = table_key[table_key['Table']==table]['Variable'].values.tolist()\n",
    "    deriviative_cols += se_nms\n",
    "    # merge with overall with INNER join bc we dont want to exclude participants who have task mri data but not resting or vice versa\n",
    "    print('Prior to merge rs df size is {0} and other df shape is {1}'.format(df.shape, dat[deriviative_cols].shape))\n",
    "    if 'src_subject_id' not in df.columns:\n",
    "        # for first table assign it to df\n",
    "        df = dat[deriviative_cols].copy()\n",
    "    else:\n",
    "        # all others are merged\n",
    "        df = df.merge(dat[deriviative_cols], how=how, on=['src_subject_id', 'eventname'])\n",
    "    print('Any duplicated columns? {}'.format(df.columns.duplicated().any()))\n",
    "    print('New rs df size is {}'.format(df.shape))\n",
    "    return df\n",
    "\n",
    "# Function to map boolean columns to race IDs\n",
    "def get_race_id(row, mapping):\n",
    "    for race, race_id in mapping.items():\n",
    "        if row[race]:\n",
    "            return race_id\n",
    "    return None  # Or another value indicating no race"
   ]
  },
  {
   "cell_type": "markdown",
   "id": "d8fce5fd-415a-4549-bf57-1b8566a85ab8",
   "metadata": {},
   "source": [
    "### Load RAce, Ethinicity Variables"
   ]
  },
  {
   "cell_type": "markdown",
   "id": "bde1c5d5-ecac-4cba-b0ba-02cdfab0ae0b",
   "metadata": {},
   "source": [
    "### get race table with variable names"
   ]
  },
  {
   "cell_type": "code",
   "execution_count": 5,
   "id": "58cbe17b-5938-44ab-a283-6a5131ef37ab",
   "metadata": {},
   "outputs": [
    {
     "data": {
      "text/html": [
       "<div>\n",
       "<style scoped>\n",
       "    .dataframe tbody tr th:only-of-type {\n",
       "        vertical-align: middle;\n",
       "    }\n",
       "\n",
       "    .dataframe tbody tr th {\n",
       "        vertical-align: top;\n",
       "    }\n",
       "\n",
       "    .dataframe thead th {\n",
       "        text-align: right;\n",
       "    }\n",
       "</style>\n",
       "<table border=\"1\" class=\"dataframe\">\n",
       "  <thead>\n",
       "    <tr style=\"text-align: right;\">\n",
       "      <th></th>\n",
       "      <th>Table</th>\n",
       "      <th>Variable</th>\n",
       "      <th>Description</th>\n",
       "      <th>Options</th>\n",
       "      <th>extra</th>\n",
       "      <th>extra2</th>\n",
       "    </tr>\n",
       "  </thead>\n",
       "  <tbody>\n",
       "    <tr>\n",
       "      <th>15</th>\n",
       "      <td>abcd_p_demo</td>\n",
       "      <td>demo_race_a_p___25</td>\n",
       "      <td>What race do you consider the child to be? Ple...</td>\n",
       "      <td>0 = No; 1 = Yes</td>\n",
       "      <td>demo_prim == 1 || demo_prim == 2 || demo_prim ...</td>\n",
       "      <td>pdem02</td>\n",
       "    </tr>\n",
       "    <tr>\n",
       "      <th>16</th>\n",
       "      <td>abcd_p_demo</td>\n",
       "      <td>demo_race_a_p___77</td>\n",
       "      <td>What race do you consider the child to be? Ple...</td>\n",
       "      <td>0 = No; 1 = Yes</td>\n",
       "      <td>demo_prim == 1 || demo_prim == 2 || demo_prim ...</td>\n",
       "      <td>pdem02</td>\n",
       "    </tr>\n",
       "    <tr>\n",
       "      <th>17</th>\n",
       "      <td>abcd_p_demo</td>\n",
       "      <td>demo_race_a_p___99</td>\n",
       "      <td>What race do you consider the child to be? Ple...</td>\n",
       "      <td>NaN</td>\n",
       "      <td>NaN</td>\n",
       "      <td>NaN</td>\n",
       "    </tr>\n",
       "    <tr>\n",
       "      <th>18</th>\n",
       "      <td>abcd_p_demo</td>\n",
       "      <td>race_ethnicity</td>\n",
       "      <td>Race Ethnicity (Child)</td>\n",
       "      <td>1 = White; 2 = Black; 3 = Hispanic; 4 = Asian;...</td>\n",
       "      <td>NaN</td>\n",
       "      <td>acspsw03</td>\n",
       "    </tr>\n",
       "    <tr>\n",
       "      <th>19</th>\n",
       "      <td>abcd_p_demo</td>\n",
       "      <td>acs_raked_propensity_score</td>\n",
       "      <td>Imputed raked propensity weight. The raked pro...</td>\n",
       "      <td>NaN</td>\n",
       "      <td>NaN</td>\n",
       "      <td>NaN</td>\n",
       "    </tr>\n",
       "  </tbody>\n",
       "</table>\n",
       "</div>"
      ],
      "text/plain": [
       "          Table                    Variable                                        Description                                            Options                                              extra    extra2\n",
       "15  abcd_p_demo          demo_race_a_p___25  What race do you consider the child to be? Ple...                                    0 = No; 1 = Yes  demo_prim == 1 || demo_prim == 2 || demo_prim ...    pdem02\n",
       "16  abcd_p_demo          demo_race_a_p___77  What race do you consider the child to be? Ple...                                    0 = No; 1 = Yes  demo_prim == 1 || demo_prim == 2 || demo_prim ...    pdem02\n",
       "17  abcd_p_demo          demo_race_a_p___99  What race do you consider the child to be? Ple...                                                NaN                                                NaN       NaN\n",
       "18  abcd_p_demo              race_ethnicity                             Race Ethnicity (Child)  1 = White; 2 = Black; 3 = Hispanic; 4 = Asian;...                                                NaN  acspsw03\n",
       "19  abcd_p_demo  acs_raked_propensity_score  Imputed raked propensity weight. The raked pro...                                                NaN                                                NaN       NaN"
      ]
     },
     "execution_count": 5,
     "metadata": {},
     "output_type": "execute_result"
    }
   ],
   "source": [
    "tvars = pd.read_csv('abcd5.1_race_vars.csv')\n",
    "tvars.tail(5)"
   ]
  },
  {
   "cell_type": "code",
   "execution_count": 6,
   "id": "95e1f59b-1f66-4a7e-8f83-657251d9e0db",
   "metadata": {},
   "outputs": [
    {
     "name": "stdout",
     "output_type": "stream",
     "text": [
      "Prior to merge rs df size is (0, 0) and other df shape is (48807, 22)\n",
      "Any duplicated columns? False\n",
      "New rs df size is (48807, 22)\n"
     ]
    }
   ],
   "source": [
    "demo = pd.DataFrame()\n",
    "demo = get_deriviatives(demo, 'abcd_p_demo.csv', tvars, 'left')"
   ]
  },
  {
   "cell_type": "markdown",
   "id": "f647fd45-247a-4075-9858-1f0ec18ce7b5",
   "metadata": {},
   "source": [
    "### Explore Dataframe"
   ]
  },
  {
   "cell_type": "code",
   "execution_count": 7,
   "id": "65085b1e-ae6e-4c6f-bb89-45f11deb2c84",
   "metadata": {},
   "outputs": [
    {
     "data": {
      "text/html": [
       "<div>\n",
       "<style scoped>\n",
       "    .dataframe tbody tr th:only-of-type {\n",
       "        vertical-align: middle;\n",
       "    }\n",
       "\n",
       "    .dataframe tbody tr th {\n",
       "        vertical-align: top;\n",
       "    }\n",
       "\n",
       "    .dataframe thead th {\n",
       "        text-align: right;\n",
       "    }\n",
       "</style>\n",
       "<table border=\"1\" class=\"dataframe\">\n",
       "  <thead>\n",
       "    <tr style=\"text-align: right;\">\n",
       "      <th></th>\n",
       "      <th>demo_race_a_p___10</th>\n",
       "      <th>demo_race_a_p___11</th>\n",
       "      <th>demo_race_a_p___12</th>\n",
       "      <th>demo_race_a_p___13</th>\n",
       "      <th>demo_race_a_p___14</th>\n",
       "      <th>demo_race_a_p___15</th>\n",
       "      <th>demo_race_a_p___16</th>\n",
       "      <th>demo_race_a_p___17</th>\n",
       "      <th>demo_race_a_p___18</th>\n",
       "      <th>demo_race_a_p___19</th>\n",
       "      <th>demo_race_a_p___20</th>\n",
       "      <th>demo_race_a_p___21</th>\n",
       "      <th>demo_race_a_p___22</th>\n",
       "      <th>demo_race_a_p___23</th>\n",
       "      <th>demo_race_a_p___24</th>\n",
       "      <th>demo_race_a_p___25</th>\n",
       "      <th>demo_race_a_p___77</th>\n",
       "      <th>demo_race_a_p___99</th>\n",
       "      <th>race_ethnicity</th>\n",
       "      <th>acs_raked_propensity_score</th>\n",
       "      <th>src_subject_id</th>\n",
       "      <th>eventname</th>\n",
       "    </tr>\n",
       "  </thead>\n",
       "  <tbody>\n",
       "    <tr>\n",
       "      <th>0</th>\n",
       "      <td>1.0</td>\n",
       "      <td>0.0</td>\n",
       "      <td>0.0</td>\n",
       "      <td>0.0</td>\n",
       "      <td>0.0</td>\n",
       "      <td>0.0</td>\n",
       "      <td>0.0</td>\n",
       "      <td>0.0</td>\n",
       "      <td>0.0</td>\n",
       "      <td>0.0</td>\n",
       "      <td>0.0</td>\n",
       "      <td>0.0</td>\n",
       "      <td>0.0</td>\n",
       "      <td>0.0</td>\n",
       "      <td>0.0</td>\n",
       "      <td>0.0</td>\n",
       "      <td>0.0</td>\n",
       "      <td>0.0</td>\n",
       "      <td>1.0</td>\n",
       "      <td>466.092707</td>\n",
       "      <td>NDAR_INV003RTV85</td>\n",
       "      <td>baseline_year_1_arm_1</td>\n",
       "    </tr>\n",
       "    <tr>\n",
       "      <th>1</th>\n",
       "      <td>NaN</td>\n",
       "      <td>NaN</td>\n",
       "      <td>NaN</td>\n",
       "      <td>NaN</td>\n",
       "      <td>NaN</td>\n",
       "      <td>NaN</td>\n",
       "      <td>NaN</td>\n",
       "      <td>NaN</td>\n",
       "      <td>NaN</td>\n",
       "      <td>NaN</td>\n",
       "      <td>NaN</td>\n",
       "      <td>NaN</td>\n",
       "      <td>NaN</td>\n",
       "      <td>NaN</td>\n",
       "      <td>NaN</td>\n",
       "      <td>NaN</td>\n",
       "      <td>NaN</td>\n",
       "      <td>NaN</td>\n",
       "      <td>1.0</td>\n",
       "      <td>533.381820</td>\n",
       "      <td>NDAR_INV003RTV85</td>\n",
       "      <td>1_year_follow_up_y_arm_1</td>\n",
       "    </tr>\n",
       "    <tr>\n",
       "      <th>2</th>\n",
       "      <td>NaN</td>\n",
       "      <td>NaN</td>\n",
       "      <td>NaN</td>\n",
       "      <td>NaN</td>\n",
       "      <td>NaN</td>\n",
       "      <td>NaN</td>\n",
       "      <td>NaN</td>\n",
       "      <td>NaN</td>\n",
       "      <td>NaN</td>\n",
       "      <td>NaN</td>\n",
       "      <td>NaN</td>\n",
       "      <td>NaN</td>\n",
       "      <td>NaN</td>\n",
       "      <td>NaN</td>\n",
       "      <td>NaN</td>\n",
       "      <td>NaN</td>\n",
       "      <td>NaN</td>\n",
       "      <td>NaN</td>\n",
       "      <td>NaN</td>\n",
       "      <td>NaN</td>\n",
       "      <td>NDAR_INV003RTV85</td>\n",
       "      <td>2_year_follow_up_y_arm_1</td>\n",
       "    </tr>\n",
       "    <tr>\n",
       "      <th>3</th>\n",
       "      <td>NaN</td>\n",
       "      <td>NaN</td>\n",
       "      <td>NaN</td>\n",
       "      <td>NaN</td>\n",
       "      <td>NaN</td>\n",
       "      <td>NaN</td>\n",
       "      <td>NaN</td>\n",
       "      <td>NaN</td>\n",
       "      <td>NaN</td>\n",
       "      <td>NaN</td>\n",
       "      <td>NaN</td>\n",
       "      <td>NaN</td>\n",
       "      <td>NaN</td>\n",
       "      <td>NaN</td>\n",
       "      <td>NaN</td>\n",
       "      <td>NaN</td>\n",
       "      <td>NaN</td>\n",
       "      <td>NaN</td>\n",
       "      <td>NaN</td>\n",
       "      <td>NaN</td>\n",
       "      <td>NDAR_INV003RTV85</td>\n",
       "      <td>3_year_follow_up_y_arm_1</td>\n",
       "    </tr>\n",
       "    <tr>\n",
       "      <th>4</th>\n",
       "      <td>1.0</td>\n",
       "      <td>0.0</td>\n",
       "      <td>0.0</td>\n",
       "      <td>0.0</td>\n",
       "      <td>0.0</td>\n",
       "      <td>0.0</td>\n",
       "      <td>0.0</td>\n",
       "      <td>0.0</td>\n",
       "      <td>0.0</td>\n",
       "      <td>0.0</td>\n",
       "      <td>0.0</td>\n",
       "      <td>0.0</td>\n",
       "      <td>0.0</td>\n",
       "      <td>0.0</td>\n",
       "      <td>0.0</td>\n",
       "      <td>0.0</td>\n",
       "      <td>0.0</td>\n",
       "      <td>0.0</td>\n",
       "      <td>3.0</td>\n",
       "      <td>520.488325</td>\n",
       "      <td>NDAR_INV005V6D2C</td>\n",
       "      <td>baseline_year_1_arm_1</td>\n",
       "    </tr>\n",
       "  </tbody>\n",
       "</table>\n",
       "</div>"
      ],
      "text/plain": [
       "   demo_race_a_p___10  demo_race_a_p___11  demo_race_a_p___12  demo_race_a_p___13  demo_race_a_p___14  demo_race_a_p___15  demo_race_a_p___16  demo_race_a_p___17  demo_race_a_p___18  demo_race_a_p___19  demo_race_a_p___20  demo_race_a_p___21  demo_race_a_p___22  demo_race_a_p___23  demo_race_a_p___24  demo_race_a_p___25  demo_race_a_p___77  demo_race_a_p___99  race_ethnicity  acs_raked_propensity_score    src_subject_id                 eventname\n",
       "0                 1.0                 0.0                 0.0                 0.0                 0.0                 0.0                 0.0                 0.0                 0.0                 0.0                 0.0                 0.0                 0.0                 0.0                 0.0                 0.0                 0.0                 0.0             1.0                  466.092707  NDAR_INV003RTV85     baseline_year_1_arm_1\n",
       "1                 NaN                 NaN                 NaN                 NaN                 NaN                 NaN                 NaN                 NaN                 NaN                 NaN                 NaN                 NaN                 NaN                 NaN                 NaN                 NaN                 NaN                 NaN             1.0                  533.381820  NDAR_INV003RTV85  1_year_follow_up_y_arm_1\n",
       "2                 NaN                 NaN                 NaN                 NaN                 NaN                 NaN                 NaN                 NaN                 NaN                 NaN                 NaN                 NaN                 NaN                 NaN                 NaN                 NaN                 NaN                 NaN             NaN                         NaN  NDAR_INV003RTV85  2_year_follow_up_y_arm_1\n",
       "3                 NaN                 NaN                 NaN                 NaN                 NaN                 NaN                 NaN                 NaN                 NaN                 NaN                 NaN                 NaN                 NaN                 NaN                 NaN                 NaN                 NaN                 NaN             NaN                         NaN  NDAR_INV003RTV85  3_year_follow_up_y_arm_1\n",
       "4                 1.0                 0.0                 0.0                 0.0                 0.0                 0.0                 0.0                 0.0                 0.0                 0.0                 0.0                 0.0                 0.0                 0.0                 0.0                 0.0                 0.0                 0.0             3.0                  520.488325  NDAR_INV005V6D2C     baseline_year_1_arm_1"
      ]
     },
     "execution_count": 7,
     "metadata": {},
     "output_type": "execute_result"
    }
   ],
   "source": [
    "demo.head()"
   ]
  },
  {
   "cell_type": "code",
   "execution_count": 8,
   "id": "2e22a0fe-b82c-4506-88f0-b8d0415d1152",
   "metadata": {},
   "outputs": [
    {
     "data": {
      "text/html": [
       "<div>\n",
       "<style scoped>\n",
       "    .dataframe tbody tr th:only-of-type {\n",
       "        vertical-align: middle;\n",
       "    }\n",
       "\n",
       "    .dataframe tbody tr th {\n",
       "        vertical-align: top;\n",
       "    }\n",
       "\n",
       "    .dataframe thead th {\n",
       "        text-align: right;\n",
       "    }\n",
       "</style>\n",
       "<table border=\"1\" class=\"dataframe\">\n",
       "  <thead>\n",
       "    <tr style=\"text-align: right;\">\n",
       "      <th></th>\n",
       "      <th>demo_race_a_p___10</th>\n",
       "      <th>demo_race_a_p___11</th>\n",
       "      <th>demo_race_a_p___12</th>\n",
       "      <th>demo_race_a_p___13</th>\n",
       "      <th>demo_race_a_p___14</th>\n",
       "      <th>demo_race_a_p___15</th>\n",
       "      <th>demo_race_a_p___16</th>\n",
       "      <th>demo_race_a_p___17</th>\n",
       "      <th>demo_race_a_p___18</th>\n",
       "      <th>demo_race_a_p___19</th>\n",
       "      <th>demo_race_a_p___20</th>\n",
       "      <th>demo_race_a_p___21</th>\n",
       "      <th>demo_race_a_p___22</th>\n",
       "      <th>demo_race_a_p___23</th>\n",
       "      <th>demo_race_a_p___24</th>\n",
       "      <th>demo_race_a_p___25</th>\n",
       "      <th>demo_race_a_p___77</th>\n",
       "      <th>demo_race_a_p___99</th>\n",
       "      <th>race_ethnicity</th>\n",
       "      <th>acs_raked_propensity_score</th>\n",
       "    </tr>\n",
       "  </thead>\n",
       "  <tbody>\n",
       "    <tr>\n",
       "      <th>count</th>\n",
       "      <td>11845.000000</td>\n",
       "      <td>11845.000000</td>\n",
       "      <td>11845.000000</td>\n",
       "      <td>11845.000000</td>\n",
       "      <td>11845.000000</td>\n",
       "      <td>11845.000000</td>\n",
       "      <td>11845.000000</td>\n",
       "      <td>11845.000000</td>\n",
       "      <td>11845.000000</td>\n",
       "      <td>11845.000000</td>\n",
       "      <td>11845.000000</td>\n",
       "      <td>11845.000000</td>\n",
       "      <td>11845.000000</td>\n",
       "      <td>11845.000000</td>\n",
       "      <td>11845.000000</td>\n",
       "      <td>11845.000000</td>\n",
       "      <td>11845.000000</td>\n",
       "      <td>11845.000000</td>\n",
       "      <td>23079.000000</td>\n",
       "      <td>23088.000000</td>\n",
       "    </tr>\n",
       "    <tr>\n",
       "      <th>mean</th>\n",
       "      <td>0.742676</td>\n",
       "      <td>0.212579</td>\n",
       "      <td>0.034276</td>\n",
       "      <td>0.000422</td>\n",
       "      <td>0.001942</td>\n",
       "      <td>0.000169</td>\n",
       "      <td>0.001013</td>\n",
       "      <td>0.003377</td>\n",
       "      <td>0.009624</td>\n",
       "      <td>0.017138</td>\n",
       "      <td>0.014099</td>\n",
       "      <td>0.007092</td>\n",
       "      <td>0.008442</td>\n",
       "      <td>0.005319</td>\n",
       "      <td>0.007598</td>\n",
       "      <td>0.067539</td>\n",
       "      <td>0.004981</td>\n",
       "      <td>0.008780</td>\n",
       "      <td>2.031674</td>\n",
       "      <td>710.340651</td>\n",
       "    </tr>\n",
       "    <tr>\n",
       "      <th>std</th>\n",
       "      <td>0.437178</td>\n",
       "      <td>0.409150</td>\n",
       "      <td>0.181945</td>\n",
       "      <td>0.020542</td>\n",
       "      <td>0.044024</td>\n",
       "      <td>0.012994</td>\n",
       "      <td>0.031814</td>\n",
       "      <td>0.058016</td>\n",
       "      <td>0.097634</td>\n",
       "      <td>0.129791</td>\n",
       "      <td>0.117903</td>\n",
       "      <td>0.083916</td>\n",
       "      <td>0.091498</td>\n",
       "      <td>0.072738</td>\n",
       "      <td>0.086839</td>\n",
       "      <td>0.250964</td>\n",
       "      <td>0.070403</td>\n",
       "      <td>0.093294</td>\n",
       "      <td>1.325221</td>\n",
       "      <td>440.937045</td>\n",
       "    </tr>\n",
       "    <tr>\n",
       "      <th>min</th>\n",
       "      <td>0.000000</td>\n",
       "      <td>0.000000</td>\n",
       "      <td>0.000000</td>\n",
       "      <td>0.000000</td>\n",
       "      <td>0.000000</td>\n",
       "      <td>0.000000</td>\n",
       "      <td>0.000000</td>\n",
       "      <td>0.000000</td>\n",
       "      <td>0.000000</td>\n",
       "      <td>0.000000</td>\n",
       "      <td>0.000000</td>\n",
       "      <td>0.000000</td>\n",
       "      <td>0.000000</td>\n",
       "      <td>0.000000</td>\n",
       "      <td>0.000000</td>\n",
       "      <td>0.000000</td>\n",
       "      <td>0.000000</td>\n",
       "      <td>0.000000</td>\n",
       "      <td>1.000000</td>\n",
       "      <td>0.000000</td>\n",
       "    </tr>\n",
       "    <tr>\n",
       "      <th>25%</th>\n",
       "      <td>0.000000</td>\n",
       "      <td>0.000000</td>\n",
       "      <td>0.000000</td>\n",
       "      <td>0.000000</td>\n",
       "      <td>0.000000</td>\n",
       "      <td>0.000000</td>\n",
       "      <td>0.000000</td>\n",
       "      <td>0.000000</td>\n",
       "      <td>0.000000</td>\n",
       "      <td>0.000000</td>\n",
       "      <td>0.000000</td>\n",
       "      <td>0.000000</td>\n",
       "      <td>0.000000</td>\n",
       "      <td>0.000000</td>\n",
       "      <td>0.000000</td>\n",
       "      <td>0.000000</td>\n",
       "      <td>0.000000</td>\n",
       "      <td>0.000000</td>\n",
       "      <td>1.000000</td>\n",
       "      <td>421.841839</td>\n",
       "    </tr>\n",
       "    <tr>\n",
       "      <th>50%</th>\n",
       "      <td>1.000000</td>\n",
       "      <td>0.000000</td>\n",
       "      <td>0.000000</td>\n",
       "      <td>0.000000</td>\n",
       "      <td>0.000000</td>\n",
       "      <td>0.000000</td>\n",
       "      <td>0.000000</td>\n",
       "      <td>0.000000</td>\n",
       "      <td>0.000000</td>\n",
       "      <td>0.000000</td>\n",
       "      <td>0.000000</td>\n",
       "      <td>0.000000</td>\n",
       "      <td>0.000000</td>\n",
       "      <td>0.000000</td>\n",
       "      <td>0.000000</td>\n",
       "      <td>0.000000</td>\n",
       "      <td>0.000000</td>\n",
       "      <td>0.000000</td>\n",
       "      <td>1.000000</td>\n",
       "      <td>636.637457</td>\n",
       "    </tr>\n",
       "    <tr>\n",
       "      <th>75%</th>\n",
       "      <td>1.000000</td>\n",
       "      <td>0.000000</td>\n",
       "      <td>0.000000</td>\n",
       "      <td>0.000000</td>\n",
       "      <td>0.000000</td>\n",
       "      <td>0.000000</td>\n",
       "      <td>0.000000</td>\n",
       "      <td>0.000000</td>\n",
       "      <td>0.000000</td>\n",
       "      <td>0.000000</td>\n",
       "      <td>0.000000</td>\n",
       "      <td>0.000000</td>\n",
       "      <td>0.000000</td>\n",
       "      <td>0.000000</td>\n",
       "      <td>0.000000</td>\n",
       "      <td>0.000000</td>\n",
       "      <td>0.000000</td>\n",
       "      <td>0.000000</td>\n",
       "      <td>3.000000</td>\n",
       "      <td>884.891930</td>\n",
       "    </tr>\n",
       "    <tr>\n",
       "      <th>max</th>\n",
       "      <td>1.000000</td>\n",
       "      <td>1.000000</td>\n",
       "      <td>1.000000</td>\n",
       "      <td>1.000000</td>\n",
       "      <td>1.000000</td>\n",
       "      <td>1.000000</td>\n",
       "      <td>1.000000</td>\n",
       "      <td>1.000000</td>\n",
       "      <td>1.000000</td>\n",
       "      <td>1.000000</td>\n",
       "      <td>1.000000</td>\n",
       "      <td>1.000000</td>\n",
       "      <td>1.000000</td>\n",
       "      <td>1.000000</td>\n",
       "      <td>1.000000</td>\n",
       "      <td>1.000000</td>\n",
       "      <td>1.000000</td>\n",
       "      <td>1.000000</td>\n",
       "      <td>5.000000</td>\n",
       "      <td>2665.925049</td>\n",
       "    </tr>\n",
       "  </tbody>\n",
       "</table>\n",
       "</div>"
      ],
      "text/plain": [
       "       demo_race_a_p___10  demo_race_a_p___11  demo_race_a_p___12  demo_race_a_p___13  demo_race_a_p___14  demo_race_a_p___15  demo_race_a_p___16  demo_race_a_p___17  demo_race_a_p___18  demo_race_a_p___19  demo_race_a_p___20  demo_race_a_p___21  demo_race_a_p___22  demo_race_a_p___23  demo_race_a_p___24  demo_race_a_p___25  demo_race_a_p___77  demo_race_a_p___99  race_ethnicity  acs_raked_propensity_score\n",
       "count        11845.000000        11845.000000        11845.000000        11845.000000        11845.000000        11845.000000        11845.000000        11845.000000        11845.000000        11845.000000        11845.000000        11845.000000        11845.000000        11845.000000        11845.000000        11845.000000        11845.000000        11845.000000    23079.000000                23088.000000\n",
       "mean             0.742676            0.212579            0.034276            0.000422            0.001942            0.000169            0.001013            0.003377            0.009624            0.017138            0.014099            0.007092            0.008442            0.005319            0.007598            0.067539            0.004981            0.008780        2.031674                  710.340651\n",
       "std              0.437178            0.409150            0.181945            0.020542            0.044024            0.012994            0.031814            0.058016            0.097634            0.129791            0.117903            0.083916            0.091498            0.072738            0.086839            0.250964            0.070403            0.093294        1.325221                  440.937045\n",
       "min              0.000000            0.000000            0.000000            0.000000            0.000000            0.000000            0.000000            0.000000            0.000000            0.000000            0.000000            0.000000            0.000000            0.000000            0.000000            0.000000            0.000000            0.000000        1.000000                    0.000000\n",
       "25%              0.000000            0.000000            0.000000            0.000000            0.000000            0.000000            0.000000            0.000000            0.000000            0.000000            0.000000            0.000000            0.000000            0.000000            0.000000            0.000000            0.000000            0.000000        1.000000                  421.841839\n",
       "50%              1.000000            0.000000            0.000000            0.000000            0.000000            0.000000            0.000000            0.000000            0.000000            0.000000            0.000000            0.000000            0.000000            0.000000            0.000000            0.000000            0.000000            0.000000        1.000000                  636.637457\n",
       "75%              1.000000            0.000000            0.000000            0.000000            0.000000            0.000000            0.000000            0.000000            0.000000            0.000000            0.000000            0.000000            0.000000            0.000000            0.000000            0.000000            0.000000            0.000000        3.000000                  884.891930\n",
       "max              1.000000            1.000000            1.000000            1.000000            1.000000            1.000000            1.000000            1.000000            1.000000            1.000000            1.000000            1.000000            1.000000            1.000000            1.000000            1.000000            1.000000            1.000000        5.000000                 2665.925049"
      ]
     },
     "execution_count": 8,
     "metadata": {},
     "output_type": "execute_result"
    }
   ],
   "source": [
    "demo.describe()"
   ]
  },
  {
   "cell_type": "code",
   "execution_count": 9,
   "id": "48ceb169-a78e-4404-bf84-31d3aa19dc62",
   "metadata": {},
   "outputs": [
    {
     "data": {
      "text/plain": [
       "demo_race_a_p___10            36962\n",
       "demo_race_a_p___11            36962\n",
       "demo_race_a_p___12            36962\n",
       "demo_race_a_p___13            36962\n",
       "demo_race_a_p___14            36962\n",
       "demo_race_a_p___15            36962\n",
       "demo_race_a_p___16            36962\n",
       "demo_race_a_p___17            36962\n",
       "demo_race_a_p___18            36962\n",
       "demo_race_a_p___19            36962\n",
       "demo_race_a_p___20            36962\n",
       "demo_race_a_p___21            36962\n",
       "demo_race_a_p___22            36962\n",
       "demo_race_a_p___23            36962\n",
       "demo_race_a_p___24            36962\n",
       "demo_race_a_p___25            36962\n",
       "demo_race_a_p___77            36962\n",
       "demo_race_a_p___99            36962\n",
       "race_ethnicity                25728\n",
       "acs_raked_propensity_score    25719\n",
       "src_subject_id                    0\n",
       "eventname                         0\n",
       "dtype: int64"
      ]
     },
     "execution_count": 9,
     "metadata": {},
     "output_type": "execute_result"
    }
   ],
   "source": [
    "demo.isnull().sum()"
   ]
  },
  {
   "cell_type": "markdown",
   "id": "d8f9a3aa-4730-4c50-965c-123467d51422",
   "metadata": {},
   "source": [
    "#### Sum across all columns\n",
    "* check if anything > 1, which would indicate parent selected mutliple races for chile"
   ]
  },
  {
   "cell_type": "code",
   "execution_count": 10,
   "id": "e4fd1439-412c-4712-8b3f-e2171ff5058f",
   "metadata": {},
   "outputs": [
    {
     "name": "stdout",
     "output_type": "stream",
     "text": [
      "18\n"
     ]
    },
    {
     "data": {
      "text/plain": [
       "['demo_race_a_p___10',\n",
       " 'demo_race_a_p___11',\n",
       " 'demo_race_a_p___12',\n",
       " 'demo_race_a_p___13',\n",
       " 'demo_race_a_p___14',\n",
       " 'demo_race_a_p___15',\n",
       " 'demo_race_a_p___16',\n",
       " 'demo_race_a_p___17',\n",
       " 'demo_race_a_p___18',\n",
       " 'demo_race_a_p___19',\n",
       " 'demo_race_a_p___20',\n",
       " 'demo_race_a_p___21',\n",
       " 'demo_race_a_p___22',\n",
       " 'demo_race_a_p___23',\n",
       " 'demo_race_a_p___24',\n",
       " 'demo_race_a_p___25',\n",
       " 'demo_race_a_p___77',\n",
       " 'demo_race_a_p___99']"
      ]
     },
     "execution_count": 10,
     "metadata": {},
     "output_type": "execute_result"
    }
   ],
   "source": [
    "dvars = [c for c in demo.columns if 'demo' in c]\n",
    "print(len(dvars))\n",
    "dvars"
   ]
  },
  {
   "cell_type": "code",
   "execution_count": 11,
   "id": "47b8613e-9233-44ec-a854-a47b8e24b885",
   "metadata": {},
   "outputs": [
    {
     "data": {
      "text/plain": [
       "race_sum\n",
       "0.0    36963\n",
       "1.0    10365\n",
       "2.0     1253\n",
       "3.0      192\n",
       "4.0       30\n",
       "5.0        4\n",
       "Name: count, dtype: int64"
      ]
     },
     "execution_count": 11,
     "metadata": {},
     "output_type": "execute_result"
    }
   ],
   "source": [
    "demo['race_sum'] = demo[dvars].sum(axis=1)\n",
    "demo['race_sum'].value_counts()"
   ]
  },
  {
   "cell_type": "code",
   "execution_count": 12,
   "id": "d6f8f4bb-4a5b-4a34-83a9-c332bce7ad2b",
   "metadata": {},
   "outputs": [
    {
     "name": "stdout",
     "output_type": "stream",
     "text": [
      "(11844, 23)\n"
     ]
    },
    {
     "data": {
      "text/plain": [
       "eventname\n",
       "baseline_year_1_arm_1    11844\n",
       "Name: count, dtype: int64"
      ]
     },
     "execution_count": 12,
     "metadata": {},
     "output_type": "execute_result"
    }
   ],
   "source": [
    "# select rows where race is specified\n",
    "demo = demo[demo['race_sum']>0]\n",
    "print(demo.shape)\n",
    "demo.eventname.value_counts()"
   ]
  },
  {
   "cell_type": "markdown",
   "id": "8bfc2cf1-64df-4ebd-86ca-795f68ce0502",
   "metadata": {},
   "source": [
    "### Convert race columns to single column with race ID"
   ]
  },
  {
   "cell_type": "code",
   "execution_count": 13,
   "id": "23dd25f8-369b-4a7f-912a-1dcfb06a7775",
   "metadata": {},
   "outputs": [
    {
     "data": {
      "text/plain": [
       "{'demo_race_a_p___10': '10',\n",
       " 'demo_race_a_p___11': '11',\n",
       " 'demo_race_a_p___12': '12',\n",
       " 'demo_race_a_p___13': '13',\n",
       " 'demo_race_a_p___14': '14',\n",
       " 'demo_race_a_p___15': '15',\n",
       " 'demo_race_a_p___16': '16',\n",
       " 'demo_race_a_p___17': '17',\n",
       " 'demo_race_a_p___18': '18',\n",
       " 'demo_race_a_p___19': '19',\n",
       " 'demo_race_a_p___20': '20',\n",
       " 'demo_race_a_p___21': '21',\n",
       " 'demo_race_a_p___22': '22',\n",
       " 'demo_race_a_p___23': '23',\n",
       " 'demo_race_a_p___24': '24',\n",
       " 'demo_race_a_p___25': '25',\n",
       " 'demo_race_a_p___77': '77',\n",
       " 'demo_race_a_p___99': '99'}"
      ]
     },
     "execution_count": 13,
     "metadata": {},
     "output_type": "execute_result"
    }
   ],
   "source": [
    "# Mapping of race columns to unique IDs\n",
    "race_ids = [c[-2:] for c in dvars]\n",
    "race_to_id = dict(zip(dvars, race_ids))\n",
    "race_to_id"
   ]
  },
  {
   "cell_type": "code",
   "execution_count": 14,
   "id": "101b171e-45eb-4d00-a333-a75606331d51",
   "metadata": {},
   "outputs": [
    {
     "name": "stdout",
     "output_type": "stream",
     "text": [
      "0\n"
     ]
    },
    {
     "data": {
      "text/html": [
       "<div>\n",
       "<style scoped>\n",
       "    .dataframe tbody tr th:only-of-type {\n",
       "        vertical-align: middle;\n",
       "    }\n",
       "\n",
       "    .dataframe tbody tr th {\n",
       "        vertical-align: top;\n",
       "    }\n",
       "\n",
       "    .dataframe thead th {\n",
       "        text-align: right;\n",
       "    }\n",
       "</style>\n",
       "<table border=\"1\" class=\"dataframe\">\n",
       "  <thead>\n",
       "    <tr style=\"text-align: right;\">\n",
       "      <th></th>\n",
       "      <th>demo_race_a_p___10</th>\n",
       "      <th>demo_race_a_p___11</th>\n",
       "      <th>demo_race_a_p___12</th>\n",
       "      <th>demo_race_a_p___13</th>\n",
       "      <th>demo_race_a_p___14</th>\n",
       "      <th>demo_race_a_p___15</th>\n",
       "      <th>demo_race_a_p___16</th>\n",
       "      <th>demo_race_a_p___17</th>\n",
       "      <th>demo_race_a_p___18</th>\n",
       "      <th>demo_race_a_p___19</th>\n",
       "      <th>demo_race_a_p___20</th>\n",
       "      <th>demo_race_a_p___21</th>\n",
       "      <th>demo_race_a_p___22</th>\n",
       "      <th>demo_race_a_p___23</th>\n",
       "      <th>demo_race_a_p___24</th>\n",
       "      <th>demo_race_a_p___25</th>\n",
       "      <th>demo_race_a_p___77</th>\n",
       "      <th>demo_race_a_p___99</th>\n",
       "      <th>race_ethnicity</th>\n",
       "      <th>acs_raked_propensity_score</th>\n",
       "      <th>race_sum</th>\n",
       "      <th>race_sep_id</th>\n",
       "    </tr>\n",
       "  </thead>\n",
       "  <tbody>\n",
       "    <tr>\n",
       "      <th>count</th>\n",
       "      <td>11844.000000</td>\n",
       "      <td>11844.000000</td>\n",
       "      <td>11844.000000</td>\n",
       "      <td>11844.000000</td>\n",
       "      <td>11844.000000</td>\n",
       "      <td>11844.000000</td>\n",
       "      <td>11844.000000</td>\n",
       "      <td>11844.000000</td>\n",
       "      <td>11844.000000</td>\n",
       "      <td>11844.000000</td>\n",
       "      <td>11844.000000</td>\n",
       "      <td>11844.000000</td>\n",
       "      <td>11844.000000</td>\n",
       "      <td>11844.000000</td>\n",
       "      <td>11844.000000</td>\n",
       "      <td>11844.000000</td>\n",
       "      <td>11844.000000</td>\n",
       "      <td>11844.000000</td>\n",
       "      <td>11844.000000</td>\n",
       "      <td>11844.000000</td>\n",
       "      <td>11844.000000</td>\n",
       "      <td>11844.000000</td>\n",
       "    </tr>\n",
       "    <tr>\n",
       "      <th>mean</th>\n",
       "      <td>0.742739</td>\n",
       "      <td>0.212597</td>\n",
       "      <td>0.034279</td>\n",
       "      <td>0.000422</td>\n",
       "      <td>0.001942</td>\n",
       "      <td>0.000169</td>\n",
       "      <td>0.001013</td>\n",
       "      <td>0.003377</td>\n",
       "      <td>0.009625</td>\n",
       "      <td>0.017139</td>\n",
       "      <td>0.014100</td>\n",
       "      <td>0.007092</td>\n",
       "      <td>0.008443</td>\n",
       "      <td>0.005319</td>\n",
       "      <td>0.007599</td>\n",
       "      <td>0.067545</td>\n",
       "      <td>0.004981</td>\n",
       "      <td>0.008781</td>\n",
       "      <td>2.039260</td>\n",
       "      <td>691.246118</td>\n",
       "      <td>1.147163</td>\n",
       "      <td>12.103343</td>\n",
       "    </tr>\n",
       "    <tr>\n",
       "      <th>std</th>\n",
       "      <td>0.437143</td>\n",
       "      <td>0.409162</td>\n",
       "      <td>0.181952</td>\n",
       "      <td>0.020543</td>\n",
       "      <td>0.044026</td>\n",
       "      <td>0.012994</td>\n",
       "      <td>0.031816</td>\n",
       "      <td>0.058018</td>\n",
       "      <td>0.097639</td>\n",
       "      <td>0.129797</td>\n",
       "      <td>0.117908</td>\n",
       "      <td>0.083920</td>\n",
       "      <td>0.091501</td>\n",
       "      <td>0.072741</td>\n",
       "      <td>0.086843</td>\n",
       "      <td>0.250974</td>\n",
       "      <td>0.070406</td>\n",
       "      <td>0.093298</td>\n",
       "      <td>1.323498</td>\n",
       "      <td>351.175617</td>\n",
       "      <td>0.420943</td>\n",
       "      <td>9.496839</td>\n",
       "    </tr>\n",
       "    <tr>\n",
       "      <th>min</th>\n",
       "      <td>0.000000</td>\n",
       "      <td>0.000000</td>\n",
       "      <td>0.000000</td>\n",
       "      <td>0.000000</td>\n",
       "      <td>0.000000</td>\n",
       "      <td>0.000000</td>\n",
       "      <td>0.000000</td>\n",
       "      <td>0.000000</td>\n",
       "      <td>0.000000</td>\n",
       "      <td>0.000000</td>\n",
       "      <td>0.000000</td>\n",
       "      <td>0.000000</td>\n",
       "      <td>0.000000</td>\n",
       "      <td>0.000000</td>\n",
       "      <td>0.000000</td>\n",
       "      <td>0.000000</td>\n",
       "      <td>0.000000</td>\n",
       "      <td>0.000000</td>\n",
       "      <td>1.000000</td>\n",
       "      <td>161.361068</td>\n",
       "      <td>1.000000</td>\n",
       "      <td>10.000000</td>\n",
       "    </tr>\n",
       "    <tr>\n",
       "      <th>25%</th>\n",
       "      <td>0.000000</td>\n",
       "      <td>0.000000</td>\n",
       "      <td>0.000000</td>\n",
       "      <td>0.000000</td>\n",
       "      <td>0.000000</td>\n",
       "      <td>0.000000</td>\n",
       "      <td>0.000000</td>\n",
       "      <td>0.000000</td>\n",
       "      <td>0.000000</td>\n",
       "      <td>0.000000</td>\n",
       "      <td>0.000000</td>\n",
       "      <td>0.000000</td>\n",
       "      <td>0.000000</td>\n",
       "      <td>0.000000</td>\n",
       "      <td>0.000000</td>\n",
       "      <td>0.000000</td>\n",
       "      <td>0.000000</td>\n",
       "      <td>0.000000</td>\n",
       "      <td>1.000000</td>\n",
       "      <td>448.839001</td>\n",
       "      <td>1.000000</td>\n",
       "      <td>10.000000</td>\n",
       "    </tr>\n",
       "    <tr>\n",
       "      <th>50%</th>\n",
       "      <td>1.000000</td>\n",
       "      <td>0.000000</td>\n",
       "      <td>0.000000</td>\n",
       "      <td>0.000000</td>\n",
       "      <td>0.000000</td>\n",
       "      <td>0.000000</td>\n",
       "      <td>0.000000</td>\n",
       "      <td>0.000000</td>\n",
       "      <td>0.000000</td>\n",
       "      <td>0.000000</td>\n",
       "      <td>0.000000</td>\n",
       "      <td>0.000000</td>\n",
       "      <td>0.000000</td>\n",
       "      <td>0.000000</td>\n",
       "      <td>0.000000</td>\n",
       "      <td>0.000000</td>\n",
       "      <td>0.000000</td>\n",
       "      <td>0.000000</td>\n",
       "      <td>1.000000</td>\n",
       "      <td>619.305910</td>\n",
       "      <td>1.000000</td>\n",
       "      <td>10.000000</td>\n",
       "    </tr>\n",
       "    <tr>\n",
       "      <th>75%</th>\n",
       "      <td>1.000000</td>\n",
       "      <td>0.000000</td>\n",
       "      <td>0.000000</td>\n",
       "      <td>0.000000</td>\n",
       "      <td>0.000000</td>\n",
       "      <td>0.000000</td>\n",
       "      <td>0.000000</td>\n",
       "      <td>0.000000</td>\n",
       "      <td>0.000000</td>\n",
       "      <td>0.000000</td>\n",
       "      <td>0.000000</td>\n",
       "      <td>0.000000</td>\n",
       "      <td>0.000000</td>\n",
       "      <td>0.000000</td>\n",
       "      <td>0.000000</td>\n",
       "      <td>0.000000</td>\n",
       "      <td>0.000000</td>\n",
       "      <td>0.000000</td>\n",
       "      <td>3.000000</td>\n",
       "      <td>821.716308</td>\n",
       "      <td>1.000000</td>\n",
       "      <td>11.000000</td>\n",
       "    </tr>\n",
       "    <tr>\n",
       "      <th>max</th>\n",
       "      <td>1.000000</td>\n",
       "      <td>1.000000</td>\n",
       "      <td>1.000000</td>\n",
       "      <td>1.000000</td>\n",
       "      <td>1.000000</td>\n",
       "      <td>1.000000</td>\n",
       "      <td>1.000000</td>\n",
       "      <td>1.000000</td>\n",
       "      <td>1.000000</td>\n",
       "      <td>1.000000</td>\n",
       "      <td>1.000000</td>\n",
       "      <td>1.000000</td>\n",
       "      <td>1.000000</td>\n",
       "      <td>1.000000</td>\n",
       "      <td>1.000000</td>\n",
       "      <td>1.000000</td>\n",
       "      <td>1.000000</td>\n",
       "      <td>1.000000</td>\n",
       "      <td>5.000000</td>\n",
       "      <td>1778.916737</td>\n",
       "      <td>5.000000</td>\n",
       "      <td>99.000000</td>\n",
       "    </tr>\n",
       "  </tbody>\n",
       "</table>\n",
       "</div>"
      ],
      "text/plain": [
       "       demo_race_a_p___10  demo_race_a_p___11  demo_race_a_p___12  demo_race_a_p___13  demo_race_a_p___14  demo_race_a_p___15  demo_race_a_p___16  demo_race_a_p___17  demo_race_a_p___18  demo_race_a_p___19  demo_race_a_p___20  demo_race_a_p___21  demo_race_a_p___22  demo_race_a_p___23  demo_race_a_p___24  demo_race_a_p___25  demo_race_a_p___77  demo_race_a_p___99  race_ethnicity  acs_raked_propensity_score      race_sum   race_sep_id\n",
       "count        11844.000000        11844.000000        11844.000000        11844.000000        11844.000000        11844.000000        11844.000000        11844.000000        11844.000000        11844.000000        11844.000000        11844.000000        11844.000000        11844.000000        11844.000000        11844.000000        11844.000000        11844.000000    11844.000000                11844.000000  11844.000000  11844.000000\n",
       "mean             0.742739            0.212597            0.034279            0.000422            0.001942            0.000169            0.001013            0.003377            0.009625            0.017139            0.014100            0.007092            0.008443            0.005319            0.007599            0.067545            0.004981            0.008781        2.039260                  691.246118      1.147163     12.103343\n",
       "std              0.437143            0.409162            0.181952            0.020543            0.044026            0.012994            0.031816            0.058018            0.097639            0.129797            0.117908            0.083920            0.091501            0.072741            0.086843            0.250974            0.070406            0.093298        1.323498                  351.175617      0.420943      9.496839\n",
       "min              0.000000            0.000000            0.000000            0.000000            0.000000            0.000000            0.000000            0.000000            0.000000            0.000000            0.000000            0.000000            0.000000            0.000000            0.000000            0.000000            0.000000            0.000000        1.000000                  161.361068      1.000000     10.000000\n",
       "25%              0.000000            0.000000            0.000000            0.000000            0.000000            0.000000            0.000000            0.000000            0.000000            0.000000            0.000000            0.000000            0.000000            0.000000            0.000000            0.000000            0.000000            0.000000        1.000000                  448.839001      1.000000     10.000000\n",
       "50%              1.000000            0.000000            0.000000            0.000000            0.000000            0.000000            0.000000            0.000000            0.000000            0.000000            0.000000            0.000000            0.000000            0.000000            0.000000            0.000000            0.000000            0.000000        1.000000                  619.305910      1.000000     10.000000\n",
       "75%              1.000000            0.000000            0.000000            0.000000            0.000000            0.000000            0.000000            0.000000            0.000000            0.000000            0.000000            0.000000            0.000000            0.000000            0.000000            0.000000            0.000000            0.000000        3.000000                  821.716308      1.000000     11.000000\n",
       "max              1.000000            1.000000            1.000000            1.000000            1.000000            1.000000            1.000000            1.000000            1.000000            1.000000            1.000000            1.000000            1.000000            1.000000            1.000000            1.000000            1.000000            1.000000        5.000000                 1778.916737      5.000000     99.000000"
      ]
     },
     "execution_count": 14,
     "metadata": {},
     "output_type": "execute_result"
    }
   ],
   "source": [
    "# Apply the get_race_id function to each row\n",
    "demo['race_sep_id'] = demo.apply(get_race_id, axis=1, mapping=race_to_id)\n",
    "demo['race_sep_id'] = pd.to_numeric(demo['race_sep_id'])\n",
    "print(demo['race_sep_id'].isnull().sum())\n",
    "demo.describe()"
   ]
  },
  {
   "cell_type": "code",
   "execution_count": 15,
   "id": "0002dca2-1261-4473-abff-4ce49b131b00",
   "metadata": {},
   "outputs": [
    {
     "data": {
      "text/plain": [
       "race_sep_id\n",
       "10    8797\n",
       "11    1991\n",
       "25     525\n",
       "99      91\n",
       "19      90\n",
       "12      69\n",
       "18      58\n",
       "77      55\n",
       "20      53\n",
       "24      35\n",
       "22      22\n",
       "23      21\n",
       "17      15\n",
       "21      13\n",
       "16       4\n",
       "14       4\n",
       "15       1\n",
       "Name: count, dtype: int64"
      ]
     },
     "execution_count": 15,
     "metadata": {},
     "output_type": "execute_result"
    }
   ],
   "source": [
    "demo['race_sep_id'].value_counts()"
   ]
  },
  {
   "cell_type": "markdown",
   "id": "d2faeb28-8fd4-4932-8e1f-375e64f29a31",
   "metadata": {},
   "source": [
    "#### check subs who responded with mutliple race's"
   ]
  },
  {
   "cell_type": "code",
   "execution_count": 16,
   "id": "06145bca-8b98-422e-8cce-f693ee494db3",
   "metadata": {},
   "outputs": [
    {
     "data": {
      "text/plain": [
       "(1479, 24)"
      ]
     },
     "execution_count": 16,
     "metadata": {},
     "output_type": "execute_result"
    }
   ],
   "source": [
    "demo[demo['race_sum']>1].shape"
   ]
  },
  {
   "cell_type": "markdown",
   "id": "e11f5a56-c5bb-457f-a5da-60ad6c39a708",
   "metadata": {},
   "source": [
    "### Actually, race_ethnicity variable is preferred\n",
    "* inlcudes pretty much everythinng we need"
   ]
  },
  {
   "cell_type": "code",
   "execution_count": 17,
   "id": "f71ccbb7-ea71-47a8-be21-075d223d19ca",
   "metadata": {},
   "outputs": [
    {
     "data": {
      "text/plain": [
       "race_ethnicity\n",
       "1.0    6168\n",
       "3.0    2400\n",
       "2.0    1781\n",
       "5.0    1243\n",
       "4.0     252\n",
       "Name: count, dtype: int64"
      ]
     },
     "execution_count": 17,
     "metadata": {},
     "output_type": "execute_result"
    }
   ],
   "source": [
    "demo['race_ethnicity'].value_counts()"
   ]
  },
  {
   "cell_type": "code",
   "execution_count": 18,
   "id": "dd163215-4101-4a7e-be91-feb9a383cb16",
   "metadata": {},
   "outputs": [
    {
     "data": {
      "text/plain": [
       "eventname\n",
       "baseline_year_1_arm_1    11844\n",
       "Name: count, dtype: int64"
      ]
     },
     "execution_count": 18,
     "metadata": {},
     "output_type": "execute_result"
    }
   ],
   "source": [
    "demo['eventname'].value_counts()"
   ]
  },
  {
   "cell_type": "code",
   "execution_count": 19,
   "id": "22031d94-d3f9-4e4e-9a68-3236b13ca50d",
   "metadata": {},
   "outputs": [
    {
     "data": {
      "text/plain": [
       "(11844, 3)"
      ]
     },
     "execution_count": 19,
     "metadata": {},
     "output_type": "execute_result"
    }
   ],
   "source": [
    "# rename ethnicity column\n",
    "demo.rename(columns={'src_subject_id': 'subID', 'race_ethnicity': 'race', 'acs_raked_propensity_score': 'propesit'}, inplace=True)\n",
    "demo = demo[['subID', 'race','propesit']]\n",
    "demo.shape"
   ]
  },
  {
   "cell_type": "markdown",
   "id": "5a031e90-f1ab-4a39-a08d-48d465db298d",
   "metadata": {},
   "source": [
    "### Load full RSER dataframe"
   ]
  },
  {
   "cell_type": "code",
   "execution_count": 20,
   "id": "e5b5e61d-914a-4c7f-b4cd-6a3741d4c611",
   "metadata": {},
   "outputs": [
    {
     "data": {
      "text/plain": [
       "(7173, 264)"
      ]
     },
     "execution_count": 20,
     "metadata": {},
     "output_type": "execute_result"
    }
   ],
   "source": [
    "rser = pd.read_csv(dpath + 'abcd5.1_tfmri_nback_insula_subc_net_ders_gses_sfam_thrt_demo_noscl_nopt_w1_qc_lfa_w1_full.csv', low_memory=False)\n",
    "rser.shape"
   ]
  },
  {
   "cell_type": "code",
   "execution_count": 21,
   "id": "4a79c498-1238-4baa-8928-768bff2fdcc5",
   "metadata": {},
   "outputs": [
    {
     "data": {
      "text/plain": [
       "Aware      float64\n",
       "NoAcpt     float64\n",
       "Implse     float64\n",
       "Goals      float64\n",
       "Threat     float64\n",
       "            ...   \n",
       "SFconP8    float64\n",
       "SFconP9    float64\n",
       "pedu       float64\n",
       "pedu2      float64\n",
       "income     float64\n",
       "Length: 264, dtype: object"
      ]
     },
     "execution_count": 21,
     "metadata": {},
     "output_type": "execute_result"
    }
   ],
   "source": [
    "rser.dtypes"
   ]
  },
  {
   "cell_type": "code",
   "execution_count": 22,
   "id": "e8aebfee-a2f6-4b7c-91c2-b2c05094382a",
   "metadata": {},
   "outputs": [
    {
     "data": {
      "text/plain": [
       "AmygL1    0\n",
       "AmygR1    0\n",
       "dtype: int64"
      ]
     },
     "execution_count": 22,
     "metadata": {},
     "output_type": "execute_result"
    }
   ],
   "source": [
    "rser[['AmygL1', 'AmygR1']].isnull().sum()"
   ]
  },
  {
   "cell_type": "code",
   "execution_count": 23,
   "id": "b8d59e4e-33ba-4ce4-b62d-fb165e7d7930",
   "metadata": {},
   "outputs": [
    {
     "data": {
      "text/plain": [
       "['rsfmri_meanmotion',\n",
       " 'MotT1',\n",
       " 'ders_emotion_overwhelm_p',\n",
       " 'ders_upset_emotion_overwhelm_p',\n",
       " 'Sders_emotion_overwhelm_p',\n",
       " 'Sders_upset_emotion_overwhelm_p']"
      ]
     },
     "execution_count": 23,
     "metadata": {},
     "output_type": "execute_result"
    }
   ],
   "source": [
    "[m for m in rser.columns if 'mot' in m.lower()]"
   ]
  },
  {
   "cell_type": "markdown",
   "id": "054ac4e0-0208-4d42-b4f5-1595de479424",
   "metadata": {},
   "source": [
    "### Merge Latent factor df with RSER df"
   ]
  },
  {
   "cell_type": "code",
   "execution_count": 24,
   "id": "88d03e27-0d0f-4a28-b8c3-683193d44518",
   "metadata": {},
   "outputs": [
    {
     "data": {
      "text/plain": [
       "(7173, 266)"
      ]
     },
     "execution_count": 24,
     "metadata": {},
     "output_type": "execute_result"
    }
   ],
   "source": [
    "rs = demo.merge(rser, how=\"right\", on=\"subID\")\n",
    "rs.shape"
   ]
  },
  {
   "cell_type": "code",
   "execution_count": 25,
   "id": "be31d45a-e9ad-45c7-aa37-a639d227e757",
   "metadata": {},
   "outputs": [
    {
     "data": {
      "text/plain": [
       "AmygL1    0\n",
       "AmygR1    0\n",
       "dtype: int64"
      ]
     },
     "execution_count": 25,
     "metadata": {},
     "output_type": "execute_result"
    }
   ],
   "source": [
    "rs[['AmygL1', 'AmygR1']].isnull().sum()"
   ]
  },
  {
   "cell_type": "code",
   "execution_count": 26,
   "id": "44b03360-61b8-46d6-8e25-3d6b5c9f1db8",
   "metadata": {},
   "outputs": [
    {
     "data": {
      "text/plain": [
       "['rsfmri_meanmotion',\n",
       " 'MotT1',\n",
       " 'ders_emotion_overwhelm_p',\n",
       " 'ders_upset_emotion_overwhelm_p',\n",
       " 'Sders_emotion_overwhelm_p',\n",
       " 'Sders_upset_emotion_overwhelm_p']"
      ]
     },
     "execution_count": 26,
     "metadata": {},
     "output_type": "execute_result"
    }
   ],
   "source": [
    "[m for m in rs.columns if 'mot' in m.lower()]"
   ]
  },
  {
   "cell_type": "code",
   "execution_count": 27,
   "id": "915d32c2-7454-48eb-8790-7e450c50581a",
   "metadata": {},
   "outputs": [
    {
     "data": {
      "text/plain": [
       "0"
      ]
     },
     "execution_count": 27,
     "metadata": {},
     "output_type": "execute_result"
    }
   ],
   "source": [
    "rs['AmygL1'].isnull().sum()"
   ]
  },
  {
   "cell_type": "code",
   "execution_count": 28,
   "id": "dfd9fce3-731b-4013-824e-34d7b63ee23f",
   "metadata": {},
   "outputs": [
    {
     "data": {
      "text/plain": [
       "['MotT1']"
      ]
     },
     "execution_count": 28,
     "metadata": {},
     "output_type": "execute_result"
    }
   ],
   "source": [
    "[c for c in rs.columns if 'Mot' in c]"
   ]
  },
  {
   "cell_type": "code",
   "execution_count": 29,
   "id": "3ad6b21f-047e-4ba8-b508-744ca7ec065f",
   "metadata": {},
   "outputs": [
    {
     "data": {
      "text/plain": [
       "[]"
      ]
     },
     "execution_count": 29,
     "metadata": {},
     "output_type": "execute_result"
    }
   ],
   "source": [
    "[c for c in rs.columns if 'Sal' in c]"
   ]
  },
  {
   "cell_type": "markdown",
   "id": "b7f66c1c-5222-40d3-85e5-187acb571636",
   "metadata": {},
   "source": [
    "### Inspect Age"
   ]
  },
  {
   "cell_type": "code",
   "execution_count": 30,
   "id": "2cc7a843-5368-4b02-bfb8-7163e8d6bc3d",
   "metadata": {},
   "outputs": [
    {
     "data": {
      "text/plain": [
       "subID            0\n",
       "interview_age    0\n",
       "dtype: int64"
      ]
     },
     "execution_count": 30,
     "metadata": {},
     "output_type": "execute_result"
    }
   ],
   "source": [
    "rs[['subID', 'interview_age']].isnull().sum()"
   ]
  },
  {
   "cell_type": "markdown",
   "id": "15779aa6-3613-4eb0-bd9e-898b4497d030",
   "metadata": {},
   "source": [
    "great, no missing age data"
   ]
  },
  {
   "cell_type": "markdown",
   "id": "aa5c8581-d6b3-4e5b-ac52-528c424a9b18",
   "metadata": {},
   "source": [
    "#### Export merged data \n",
    "* including full dataframe and latent factor summary scores"
   ]
  },
  {
   "cell_type": "code",
   "execution_count": 31,
   "id": "addd20e0-c918-415b-8906-4b443807383b",
   "metadata": {},
   "outputs": [],
   "source": [
    "rs.to_csv(dpath + 'abcd5.1_tfmri_nback_insula_subc_net_ders_gses_sfam_thrt_demo_noscl_nopt_wide_qc_lfa_ra_w1_full.csv', index=False)"
   ]
  },
  {
   "cell_type": "code",
   "execution_count": null,
   "id": "26f8bf85-6f99-40d5-a92e-4d54d1b6c84c",
   "metadata": {},
   "outputs": [],
   "source": []
  }
 ],
 "metadata": {
  "kernelspec": {
   "display_name": "Python 3 (ipykernel)",
   "language": "python",
   "name": "python3"
  },
  "language_info": {
   "codemirror_mode": {
    "name": "ipython",
    "version": 3
   },
   "file_extension": ".py",
   "mimetype": "text/x-python",
   "name": "python",
   "nbconvert_exporter": "python",
   "pygments_lexer": "ipython3",
   "version": "3.11.7"
  }
 },
 "nbformat": 4,
 "nbformat_minor": 5
}
