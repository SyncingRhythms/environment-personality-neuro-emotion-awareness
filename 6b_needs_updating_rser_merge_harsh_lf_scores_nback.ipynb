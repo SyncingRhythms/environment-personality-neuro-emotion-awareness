{
 "cells": [
  {
   "cell_type": "code",
   "execution_count": 1,
   "id": "9a44c76a-76eb-450e-8e44-b3aecfa67889",
   "metadata": {},
   "outputs": [],
   "source": [
    "import numpy as np\n",
    "import pandas as pd\n",
    "\n",
    "import matplotlib as mpl\n",
    "import matplotlib.pyplot as plt\n",
    "\n",
    "import seaborn as sns\n",
    "import seaborn.objects as so\n",
    "\n",
    "from functools import reduce\n",
    "from itertools import combinations\n",
    "\n",
    "from scipy import stats\n",
    "\n",
    "# configure pandas\n",
    "pd.set_option('display.width', 500)\n",
    "pd.set_option('display.max_columns', 200)\n",
    "pd.set_option('display.max_rows', 200)"
   ]
  },
  {
   "cell_type": "code",
   "execution_count": 2,
   "id": "10cbdfef-555f-4650-a2e0-c1d1a1368bfe",
   "metadata": {},
   "outputs": [],
   "source": [
    "home = 0"
   ]
  },
  {
   "cell_type": "code",
   "execution_count": 3,
   "id": "74086d5e-5d13-492b-8fb4-270064c134a5",
   "metadata": {},
   "outputs": [],
   "source": [
    "if home:\n",
    "    dpath = '/Users/cglab/projects/abcd/data/abcd5.1-rser/'\n",
    "else:\n",
    "    dpath = '/home/cglab/projects/abcd/data/abcd5.1-rser/'"
   ]
  },
  {
   "cell_type": "markdown",
   "id": "835491fb-7eb9-48e5-bce1-e85b70509b92",
   "metadata": {},
   "source": [
    "### Load latent factor scores for threat"
   ]
  },
  {
   "cell_type": "code",
   "execution_count": null,
   "id": "06145bca-8b98-422e-8cce-f693ee494db3",
   "metadata": {},
   "outputs": [],
   "source": [
    "lf = pd.read(dpath + 'lf_scores_thrt_ders_all_sep.csv')\n",
    "lf.head()"
   ]
  },
  {
   "cell_type": "markdown",
   "id": "cc92e713-b233-44c0-be1a-3df3ac1ffe7a",
   "metadata": {},
   "source": [
    "### Compute the Quadratic and Cubic deprivation scores\n",
    "* using Lavaan latent factor summary scores"
   ]
  },
  {
   "cell_type": "code",
   "execution_count": 6,
   "id": "8ee236b2-161c-41c7-bfd8-a9620b26497b",
   "metadata": {},
   "outputs": [],
   "source": [
    "lf['NBDepSQ'] = lf['NBDeprv']**2\n",
    "lf['NBDepCB'] = lf['NBDeprv']**3\n",
    "\n",
    "lf['HSESSQ'] = lf['HSES']**2\n",
    "lf['HSESCB'] = lf['HSES']**3"
   ]
  },
  {
   "cell_type": "code",
   "execution_count": 7,
   "id": "b41791ee-19ca-4b45-adb1-3ef88c90fa99",
   "metadata": {},
   "outputs": [
    {
     "data": {
      "text/html": [
       "<div>\n",
       "<style scoped>\n",
       "    .dataframe tbody tr th:only-of-type {\n",
       "        vertical-align: middle;\n",
       "    }\n",
       "\n",
       "    .dataframe tbody tr th {\n",
       "        vertical-align: top;\n",
       "    }\n",
       "\n",
       "    .dataframe thead th {\n",
       "        text-align: right;\n",
       "    }\n",
       "</style>\n",
       "<table border=\"1\" class=\"dataframe\">\n",
       "  <thead>\n",
       "    <tr style=\"text-align: right;\">\n",
       "      <th></th>\n",
       "      <th>NBDeprv</th>\n",
       "      <th>HSES</th>\n",
       "      <th>subID</th>\n",
       "      <th>NBDepSQ</th>\n",
       "      <th>NBDepCB</th>\n",
       "      <th>HSESSQ</th>\n",
       "      <th>HSESCB</th>\n",
       "    </tr>\n",
       "  </thead>\n",
       "  <tbody>\n",
       "    <tr>\n",
       "      <th>0</th>\n",
       "      <td>-0.231087</td>\n",
       "      <td>-0.418412</td>\n",
       "      <td>NDAR_INV00CY2MDM</td>\n",
       "      <td>0.053401</td>\n",
       "      <td>-0.012340</td>\n",
       "      <td>0.175069</td>\n",
       "      <td>-0.073251</td>\n",
       "    </tr>\n",
       "    <tr>\n",
       "      <th>1</th>\n",
       "      <td>-0.989108</td>\n",
       "      <td>0.041865</td>\n",
       "      <td>NDAR_INV00HEV6HB</td>\n",
       "      <td>0.978335</td>\n",
       "      <td>-0.967679</td>\n",
       "      <td>0.001753</td>\n",
       "      <td>0.000073</td>\n",
       "    </tr>\n",
       "    <tr>\n",
       "      <th>2</th>\n",
       "      <td>-0.704474</td>\n",
       "      <td>1.148026</td>\n",
       "      <td>NDAR_INV00U4FTRU</td>\n",
       "      <td>0.496284</td>\n",
       "      <td>-0.349619</td>\n",
       "      <td>1.317964</td>\n",
       "      <td>1.513057</td>\n",
       "    </tr>\n",
       "    <tr>\n",
       "      <th>3</th>\n",
       "      <td>0.053547</td>\n",
       "      <td>-0.636576</td>\n",
       "      <td>NDAR_INV00X2TBWJ</td>\n",
       "      <td>0.002867</td>\n",
       "      <td>0.000154</td>\n",
       "      <td>0.405229</td>\n",
       "      <td>-0.257959</td>\n",
       "    </tr>\n",
       "    <tr>\n",
       "      <th>4</th>\n",
       "      <td>-1.081979</td>\n",
       "      <td>-0.816542</td>\n",
       "      <td>NDAR_INV01AJ15N9</td>\n",
       "      <td>1.170680</td>\n",
       "      <td>-1.266651</td>\n",
       "      <td>0.666740</td>\n",
       "      <td>-0.544421</td>\n",
       "    </tr>\n",
       "    <tr>\n",
       "      <th>5</th>\n",
       "      <td>-0.940071</td>\n",
       "      <td>1.936205</td>\n",
       "      <td>NDAR_INV01D03VR7</td>\n",
       "      <td>0.883733</td>\n",
       "      <td>-0.830772</td>\n",
       "      <td>3.748888</td>\n",
       "      <td>7.258614</td>\n",
       "    </tr>\n",
       "    <tr>\n",
       "      <th>6</th>\n",
       "      <td>1.047165</td>\n",
       "      <td>0.867887</td>\n",
       "      <td>NDAR_INV01ELX9L6</td>\n",
       "      <td>1.096555</td>\n",
       "      <td>1.148274</td>\n",
       "      <td>0.753228</td>\n",
       "      <td>0.653716</td>\n",
       "    </tr>\n",
       "    <tr>\n",
       "      <th>7</th>\n",
       "      <td>NaN</td>\n",
       "      <td>NaN</td>\n",
       "      <td>NDAR_INV01EN91PG</td>\n",
       "      <td>NaN</td>\n",
       "      <td>NaN</td>\n",
       "      <td>NaN</td>\n",
       "      <td>NaN</td>\n",
       "    </tr>\n",
       "    <tr>\n",
       "      <th>8</th>\n",
       "      <td>0.762531</td>\n",
       "      <td>-0.459709</td>\n",
       "      <td>NDAR_INV01NAYMZH</td>\n",
       "      <td>0.581453</td>\n",
       "      <td>0.443376</td>\n",
       "      <td>0.211332</td>\n",
       "      <td>-0.097151</td>\n",
       "    </tr>\n",
       "    <tr>\n",
       "      <th>9</th>\n",
       "      <td>0.289144</td>\n",
       "      <td>0.923637</td>\n",
       "      <td>NDAR_INV01RGTWD2</td>\n",
       "      <td>0.083604</td>\n",
       "      <td>0.024174</td>\n",
       "      <td>0.853106</td>\n",
       "      <td>0.787961</td>\n",
       "    </tr>\n",
       "  </tbody>\n",
       "</table>\n",
       "</div>"
      ],
      "text/plain": [
       "    NBDeprv      HSES             subID   NBDepSQ   NBDepCB    HSESSQ    HSESCB\n",
       "0 -0.231087 -0.418412  NDAR_INV00CY2MDM  0.053401 -0.012340  0.175069 -0.073251\n",
       "1 -0.989108  0.041865  NDAR_INV00HEV6HB  0.978335 -0.967679  0.001753  0.000073\n",
       "2 -0.704474  1.148026  NDAR_INV00U4FTRU  0.496284 -0.349619  1.317964  1.513057\n",
       "3  0.053547 -0.636576  NDAR_INV00X2TBWJ  0.002867  0.000154  0.405229 -0.257959\n",
       "4 -1.081979 -0.816542  NDAR_INV01AJ15N9  1.170680 -1.266651  0.666740 -0.544421\n",
       "5 -0.940071  1.936205  NDAR_INV01D03VR7  0.883733 -0.830772  3.748888  7.258614\n",
       "6  1.047165  0.867887  NDAR_INV01ELX9L6  1.096555  1.148274  0.753228  0.653716\n",
       "7       NaN       NaN  NDAR_INV01EN91PG       NaN       NaN       NaN       NaN\n",
       "8  0.762531 -0.459709  NDAR_INV01NAYMZH  0.581453  0.443376  0.211332 -0.097151\n",
       "9  0.289144  0.923637  NDAR_INV01RGTWD2  0.083604  0.024174  0.853106  0.787961"
      ]
     },
     "execution_count": 7,
     "metadata": {},
     "output_type": "execute_result"
    }
   ],
   "source": [
    "lf.head(10)"
   ]
  },
  {
   "cell_type": "markdown",
   "id": "5a031e90-f1ab-4a39-a08d-48d465db298d",
   "metadata": {},
   "source": [
    "### Load full RSER dataframe"
   ]
  },
  {
   "cell_type": "code",
   "execution_count": 8,
   "id": "e5b5e61d-914a-4c7f-b4cd-6a3741d4c611",
   "metadata": {},
   "outputs": [
    {
     "data": {
      "text/plain": [
       "(5754, 583)"
      ]
     },
     "execution_count": 8,
     "metadata": {},
     "output_type": "execute_result"
    }
   ],
   "source": [
    "outpath = \"/home/cglab/projects/abcd/rser/\"\n",
    "rser = pd.read_csv(dpath + 'abcd5.1_rser_nback_5-30-24.csv', low_memory=False)\n",
    "rser.shape"
   ]
  },
  {
   "cell_type": "code",
   "execution_count": 9,
   "id": "4a79c498-1238-4baa-8928-768bff2fdcc5",
   "metadata": {},
   "outputs": [
    {
     "data": {
      "text/plain": [
       "Aware                        float64\n",
       "NoAcpt                       float64\n",
       "Implse                       float64\n",
       "Goals                        float64\n",
       "Threat                       float64\n",
       "                              ...   \n",
       "imgincl_nback_include_yr1    float64\n",
       "MotionNB                     float64\n",
       "Rank_AmygL1                  float64\n",
       "Rank_AmygL5                  float64\n",
       "AmygRnkDif                   float64\n",
       "Length: 583, dtype: object"
      ]
     },
     "execution_count": 9,
     "metadata": {},
     "output_type": "execute_result"
    }
   ],
   "source": [
    "rser.dtypes"
   ]
  },
  {
   "cell_type": "code",
   "execution_count": 10,
   "id": "e8aebfee-a2f6-4b7c-91c2-b2c05094382a",
   "metadata": {},
   "outputs": [
    {
     "data": {
      "text/plain": [
       "AmygL1    1590\n",
       "AmygR1    1590\n",
       "AmygL5    1590\n",
       "AmygR5    1590\n",
       "dtype: int64"
      ]
     },
     "execution_count": 10,
     "metadata": {},
     "output_type": "execute_result"
    }
   ],
   "source": [
    "rser[['AmygL1', 'AmygR1', 'AmygL5', 'AmygR5']].isnull().sum()"
   ]
  },
  {
   "cell_type": "code",
   "execution_count": 12,
   "id": "b8d59e4e-33ba-4ce4-b62d-fb165e7d7930",
   "metadata": {},
   "outputs": [
    {
     "data": {
      "text/plain": [
       "['MotT2',\n",
       " 'MotT1',\n",
       " 'ders_emotion_overwhelm_p',\n",
       " 'ders_upset_emotion_overwhelm_p',\n",
       " 'Sders_emotion_overwhelm_p',\n",
       " 'Sders_upset_emotion_overwhelm_p',\n",
       " 'Motion',\n",
       " 'rsfmri_meanmotion_yr2',\n",
       " 'Mot5nb',\n",
       " 'rsfmri_meanmotion_yr1',\n",
       " 'Mot1nb',\n",
       " 'MotionNB']"
      ]
     },
     "execution_count": 12,
     "metadata": {},
     "output_type": "execute_result"
    }
   ],
   "source": [
    "[m for m in rser.columns if 'mot' in m.lower()]"
   ]
  },
  {
   "cell_type": "markdown",
   "id": "054ac4e0-0208-4d42-b4f5-1595de479424",
   "metadata": {},
   "source": [
    "### Merge Latent factor df with RSER df"
   ]
  },
  {
   "cell_type": "code",
   "execution_count": 13,
   "id": "88d03e27-0d0f-4a28-b8c3-683193d44518",
   "metadata": {},
   "outputs": [
    {
     "data": {
      "text/plain": [
       "(5754, 589)"
      ]
     },
     "execution_count": 13,
     "metadata": {},
     "output_type": "execute_result"
    }
   ],
   "source": [
    "lf = lf.merge(rser, how=\"right\", on=\"subID\")\n",
    "lf.shape"
   ]
  },
  {
   "cell_type": "code",
   "execution_count": 14,
   "id": "be31d45a-e9ad-45c7-aa37-a639d227e757",
   "metadata": {},
   "outputs": [
    {
     "data": {
      "text/plain": [
       "AmygL1    1590\n",
       "AmygR1    1590\n",
       "AmygL5    1590\n",
       "AmygR5    1590\n",
       "dtype: int64"
      ]
     },
     "execution_count": 14,
     "metadata": {},
     "output_type": "execute_result"
    }
   ],
   "source": [
    "lf[['AmygL1', 'AmygR1', 'AmygL5', 'AmygR5']].isnull().sum()"
   ]
  },
  {
   "cell_type": "code",
   "execution_count": 15,
   "id": "44b03360-61b8-46d6-8e25-3d6b5c9f1db8",
   "metadata": {},
   "outputs": [
    {
     "data": {
      "text/plain": [
       "['MotT2',\n",
       " 'MotT1',\n",
       " 'ders_emotion_overwhelm_p',\n",
       " 'ders_upset_emotion_overwhelm_p',\n",
       " 'Sders_emotion_overwhelm_p',\n",
       " 'Sders_upset_emotion_overwhelm_p',\n",
       " 'Motion',\n",
       " 'rsfmri_meanmotion_yr2',\n",
       " 'Mot5nb',\n",
       " 'rsfmri_meanmotion_yr1',\n",
       " 'Mot1nb',\n",
       " 'MotionNB']"
      ]
     },
     "execution_count": 15,
     "metadata": {},
     "output_type": "execute_result"
    }
   ],
   "source": [
    "[m for m in lf.columns if 'mot' in m.lower()]"
   ]
  },
  {
   "cell_type": "markdown",
   "id": "da4766ac-297f-4372-a574-d264b431b337",
   "metadata": {},
   "source": [
    "### Compute Rank Level Differences\n",
    "* of Salience to Cingulo-Par connnectivity at two timepoints"
   ]
  },
  {
   "cell_type": "code",
   "execution_count": 16,
   "id": "bf8c7412-e6a4-4dae-9940-dc361ea220e5",
   "metadata": {},
   "outputs": [],
   "source": [
    "# Rank the connectivity measures\n",
    "lf['Rank_AmygL1'] = lf['AmygL1'].rank()\n",
    "lf['Rank_AmygL5'] = lf['AmygL5'].rank()\n",
    "\n",
    "# Compute the rank difference\n",
    "lf['AmygRnkDif'] = lf['Rank_AmygL5'] - lf['Rank_AmygL1'].values"
   ]
  },
  {
   "cell_type": "code",
   "execution_count": 17,
   "id": "974613db-ff7a-428e-8aac-c1d47cefdb79",
   "metadata": {},
   "outputs": [
    {
     "data": {
      "text/plain": [
       "0      379.0\n",
       "1      -60.0\n",
       "2    -1157.0\n",
       "3      916.0\n",
       "4     3346.0\n",
       "5        NaN\n",
       "6        NaN\n",
       "7    -1472.0\n",
       "8    -1538.0\n",
       "9     1302.0\n",
       "10   -1317.0\n",
       "11      74.0\n",
       "12     394.0\n",
       "13    -377.0\n",
       "14      24.0\n",
       "15    -702.0\n",
       "16   -3245.0\n",
       "17     312.0\n",
       "18     277.0\n",
       "19       NaN\n",
       "Name: AmygRnkDif, dtype: float64"
      ]
     },
     "execution_count": 17,
     "metadata": {},
     "output_type": "execute_result"
    }
   ],
   "source": [
    "lf['AmygRnkDif'].head(20)"
   ]
  },
  {
   "cell_type": "code",
   "execution_count": 18,
   "id": "915d32c2-7454-48eb-8790-7e450c50581a",
   "metadata": {},
   "outputs": [
    {
     "data": {
      "text/plain": [
       "1590"
      ]
     },
     "execution_count": 18,
     "metadata": {},
     "output_type": "execute_result"
    }
   ],
   "source": [
    "lf['AmygL1'].isnull().sum()"
   ]
  },
  {
   "cell_type": "code",
   "execution_count": 19,
   "id": "dfd9fce3-731b-4013-824e-34d7b63ee23f",
   "metadata": {},
   "outputs": [
    {
     "data": {
      "text/plain": [
       "['MotT2', 'MotT1', 'Motion', 'Mot5nb', 'Mot1nb', 'MotionNB']"
      ]
     },
     "execution_count": 19,
     "metadata": {},
     "output_type": "execute_result"
    }
   ],
   "source": [
    "[c for c in lf.columns if 'Mot' in c]"
   ]
  },
  {
   "cell_type": "code",
   "execution_count": 20,
   "id": "3ad6b21f-047e-4ba8-b508-744ca7ec065f",
   "metadata": {},
   "outputs": [
    {
     "data": {
      "text/plain": [
       "['Rank_SalCPar1', 'Rank_SalCPar2']"
      ]
     },
     "execution_count": 20,
     "metadata": {},
     "output_type": "execute_result"
    }
   ],
   "source": [
    "[c for c in lf.columns if 'Sal' in c]"
   ]
  },
  {
   "cell_type": "code",
   "execution_count": 21,
   "id": "abe87557-c6e2-4508-86c8-be53d7a73651",
   "metadata": {},
   "outputs": [],
   "source": [
    "# rename columns\n",
    "rs_redict = {'sa_ngd_vta_yr1': 'SalVTA1', 'sa_ngd_vta_yr2': 'SalVTA5'}#, 'MotT2': 'MotT5', 'MotT1': 'Mot1nb', 'MotT5': 'Mot5nb', 'Motion': 'MotionNB'}\n",
    "lf.rename(columns=rs_redict, inplace=True)"
   ]
  },
  {
   "cell_type": "markdown",
   "id": "aa5c8581-d6b3-4e5b-ac52-528c424a9b18",
   "metadata": {},
   "source": [
    "#### Export merged data \n",
    "* including full dataframe and latent factor summary scores"
   ]
  },
  {
   "cell_type": "code",
   "execution_count": 22,
   "id": "addd20e0-c918-415b-8906-4b443807383b",
   "metadata": {},
   "outputs": [],
   "source": [
    "lf.to_csv(dpath + 'abcd5.1_tfmri_nback_insula_subc_net_ders_gses_sfam_thrt_demo_noscl_nopt_wide_qc_lfa_harsh.csv', index=False)"
   ]
  },
  {
   "cell_type": "code",
   "execution_count": 23,
   "id": "f068e7fa-a9a2-4ad8-a616-0fc6e0fce197",
   "metadata": {},
   "outputs": [],
   "source": [
    "lf.to_csv(outpath + 'abcd5.1_tfmri_nback_insula_subc_net_ders_gses_sfam_thrt_demo_noscl_nopt_wide_qc_lfa_harsh.csv', index=False)"
   ]
  },
  {
   "cell_type": "code",
   "execution_count": null,
   "id": "26f8bf85-6f99-40d5-a92e-4d54d1b6c84c",
   "metadata": {},
   "outputs": [],
   "source": []
  }
 ],
 "metadata": {
  "kernelspec": {
   "display_name": "Python 3 (ipykernel)",
   "language": "python",
   "name": "python3"
  },
  "language_info": {
   "codemirror_mode": {
    "name": "ipython",
    "version": 3
   },
   "file_extension": ".py",
   "mimetype": "text/x-python",
   "name": "python",
   "nbconvert_exporter": "python",
   "pygments_lexer": "ipython3",
   "version": "3.11.7"
  }
 },
 "nbformat": 4,
 "nbformat_minor": 5
}
